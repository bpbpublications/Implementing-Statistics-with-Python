{
 "cells": [
  {
   "cell_type": "code",
   "execution_count": null,
   "id": "aef8709e",
   "metadata": {},
   "outputs": [],
   "source": [
    "import pandas as pd\n",
    "import numpy as np\n",
    "df = pd.DataFrame({\n",
    "    'a':[1,3,4,6,8],\n",
    "    'b':[2,3,5,6,8],\n",
    "    'c':[6,5,4,3,2],\n",
    "    'd':[5,4,3,4,6]\n",
    "})\n",
    "df\n"
   ]
  },
  {
   "cell_type": "code",
   "execution_count": null,
   "id": "580223b6",
   "metadata": {},
   "outputs": [],
   "source": [
    "import matplotlib.pyplot as plt\n",
    "plt.scatter(df['a'], df['b'])\n",
    "plt.xlabel('a')\n",
    "plt.ylabel('b')\n"
   ]
  },
  {
   "cell_type": "code",
   "execution_count": null,
   "id": "bf566e6c",
   "metadata": {},
   "outputs": [],
   "source": [
    "plt.scatter(df['b'], df['c'])\n",
    "plt.xlabel('b')\n",
    "plt.ylabel('c')\n"
   ]
  },
  {
   "cell_type": "code",
   "execution_count": null,
   "id": "6db9bf85",
   "metadata": {},
   "outputs": [],
   "source": [
    "plt.scatter(df['c'], df['d'])\n",
    "plt.xlabel('c')\n",
    "plt.ylabel('d')\n"
   ]
  },
  {
   "cell_type": "code",
   "execution_count": null,
   "id": "20389413",
   "metadata": {},
   "outputs": [],
   "source": [
    "# covariance for a and b\n",
    "((df['a'] -  df['a'].mean()) * \\\n",
    " (df['b'] -  df['b'].mean())).sum() / \\\n",
    "(df.shape[0] - 1)\n"
   ]
  },
  {
   "cell_type": "code",
   "execution_count": null,
   "id": "c392d1e6",
   "metadata": {},
   "outputs": [],
   "source": [
    "np.cov(df['a'],df['b'])"
   ]
  },
  {
   "cell_type": "code",
   "execution_count": null,
   "id": "e10d3fe5",
   "metadata": {},
   "outputs": [],
   "source": [
    "np.cov(df['b'], df['c'])\n",
    "# array([[ 5.7 , -3.75],\n",
    "#        [-3.75,  2.5 ]])\n"
   ]
  },
  {
   "cell_type": "code",
   "execution_count": null,
   "id": "0d75d099",
   "metadata": {},
   "outputs": [],
   "source": [
    "np.cov(df['c'], df['d'])\n",
    "# array([[ 2.5, -0.5],\n",
    "#        [-0.5,  1.3]])\n"
   ]
  },
  {
   "cell_type": "code",
   "execution_count": null,
   "id": "bf541a1a",
   "metadata": {},
   "outputs": [],
   "source": [
    "np.cov(df['a']*2, df['b']*2)\n",
    "# array([[29.2, 25.4],\n",
    "#        [25.4, 22.8]])\n"
   ]
  },
  {
   "cell_type": "code",
   "execution_count": null,
   "id": "f052bbf6",
   "metadata": {},
   "outputs": [],
   "source": [
    "df[['a','b']].corr()"
   ]
  },
  {
   "cell_type": "code",
   "execution_count": null,
   "id": "4eaf3082",
   "metadata": {},
   "outputs": [],
   "source": [
    "df[['b','c']].corr()"
   ]
  },
  {
   "cell_type": "code",
   "execution_count": null,
   "id": "d0e2f3b8",
   "metadata": {},
   "outputs": [],
   "source": [
    "df[['c','d']].corr()"
   ]
  },
  {
   "cell_type": "code",
   "execution_count": null,
   "id": "bbc639f7",
   "metadata": {},
   "outputs": [],
   "source": [
    "df['2a'] = df['a']*2 # multiply the values in a by 2\n",
    "df['2b'] = df['b']*2 # multiply the values in b by 2\n",
    "df[['2a','2b']].corr() # the result is the same as\n",
    "# df[['a','b']].corr()\n"
   ]
  },
  {
   "cell_type": "code",
   "execution_count": null,
   "id": "264fb4e5",
   "metadata": {},
   "outputs": [],
   "source": [
    "df = pd.DataFrame({\n",
    "    'math'   :[78,89,75,67,60,58,71],\n",
    "    'science':[91,85,90,80,60,56,84]\n",
    "})\n",
    "df\n"
   ]
  },
  {
   "cell_type": "code",
   "execution_count": null,
   "id": "533d2381",
   "metadata": {},
   "outputs": [],
   "source": [
    "plt.scatter(df['math'], df['science'])\n",
    "plt.xlabel('math')\n",
    "plt.ylabel('science')\n"
   ]
  },
  {
   "cell_type": "code",
   "execution_count": null,
   "id": "94e73495",
   "metadata": {},
   "outputs": [],
   "source": [
    "df['math_rank'] = df['math'].rank(ascending=False)\n",
    "df['science_rank'] = df['science'].rank(ascending=False)\n",
    "df\n"
   ]
  },
  {
   "cell_type": "code",
   "execution_count": null,
   "id": "8d375359",
   "metadata": {},
   "outputs": [],
   "source": [
    "df['diff'] = df['math_rank'] - df['science_rank']\n",
    "df['diff_sq'] = np.square(df['diff'])\n",
    "df\n"
   ]
  },
  {
   "cell_type": "code",
   "execution_count": null,
   "id": "93d10d60",
   "metadata": {},
   "outputs": [],
   "source": [
    "n = df.shape[0]\n",
    "p = 1 - ((6 * df['diff_sq'].sum()) / (n * (n**2 - 1)))\n",
    "p   # 0.8928571428571429\n"
   ]
  },
  {
   "cell_type": "code",
   "execution_count": null,
   "id": "ae09abdd",
   "metadata": {},
   "outputs": [],
   "source": [
    "df[['math','science']].corr(method='spearman')"
   ]
  },
  {
   "cell_type": "code",
   "execution_count": null,
   "id": "e962ca21",
   "metadata": {},
   "outputs": [],
   "source": [
    "df[['math','science']].corr(method='pearson')"
   ]
  },
  {
   "cell_type": "code",
   "execution_count": null,
   "id": "6ab67fda",
   "metadata": {},
   "outputs": [],
   "source": [
    "import pandas as pd\n",
    "from sklearn.linear_model import LinearRegression\n",
    "\n",
    "def calculate_vif(df, features):    \n",
    "    vif, tolerance = {}, {}\n",
    "    # all the features that you want to examine\n",
    "    for feature in features:\n",
    "        # extract all the other features you will regress against\n",
    "        X = [f for f in features if f != feature]        \n",
    "        X, y = df[X], df[feature]\n",
    "        # extract r-squared from the fit\n",
    "        r2 = LinearRegression().fit(X, y).score(X, y)                \n",
    "        \n",
    "        # calculate tolerance\n",
    "        tolerance[feature] = 1 - r2\n",
    "        # calculate VIF\n",
    "        vif[feature] = 1/(tolerance[feature])\n",
    "    # return VIF DataFrame\n",
    "    return pd.DataFrame({'VIF': vif, 'Tolerance': tolerance})\n"
   ]
  },
  {
   "cell_type": "code",
   "execution_count": null,
   "id": "2fa219d8",
   "metadata": {},
   "outputs": [],
   "source": [
    "import pandas as pd\n",
    "data = [\n",
    "    ['BP', 'Age', 'Weight', 'BSA', 'Dur', 'Pulse', 'Stress'],\n",
    "    [105, 47, 85.4, 1.75, 5.1, 63, 33],\n",
    "    [115, 49, 94.2, 2.1, 3.8, 70, 14],\n",
    "    [116, 49, 95.3, 1.98, 8.2, 72, 10],\n",
    "    [117, 50, 94.7, 2.01, 5.8, 73, 99],\n",
    "    [112, 51, 89.4, 1.89, 7, 72, 95],\n",
    "    [121, 48, 99.5, 2.25, 9.3, 71, 10],\n",
    "    [121, 49, 99.8, 2.25, 2.5, 69, 42],\n",
    "    [110, 47, 90.9, 1.9, 6.2, 66, 8],\n",
    "    [110, 49, 89.2, 1.83, 7.1, 69, 62],\n",
    "    [114, 48, 92.7, 2.07, 5.6, 64, 35],\n",
    "    [114, 47, 94.4, 2.07, 5.3, 74, 90],\n",
    "    [115, 49, 94.1, 1.98, 5.6, 71, 21],\n",
    "    [114, 50, 91.6, 2.05, 10.2, 68, 47],\n",
    "    [106, 45, 87.1, 1.92, 5.6, 67, 80],\n",
    "    [125, 52, 101.3, 2.19, 10, 76, 98],\n",
    "    [114, 46, 94.5, 1.98, 7.4, 69, 95],\n",
    "    [106, 46, 87, 1.87, 3.6, 62, 18],\n",
    "    [113, 46, 94.5, 1.9, 4.3, 70, 12],\n",
    "    [110, 48, 90.5, 1.88, 9, 71, 99],\n",
    "    [122, 56, 95.7, 2.09, 7, 75, 99],\n",
    "]\n",
    "df = pd.DataFrame(data[1:], columns=data[0])\n",
    "df\n"
   ]
  },
  {
   "cell_type": "code",
   "execution_count": null,
   "id": "8551eba3",
   "metadata": {},
   "outputs": [],
   "source": [
    "import seaborn as sns\n",
    "sns.pairplot(df)\n"
   ]
  },
  {
   "cell_type": "code",
   "execution_count": null,
   "id": "cdddac11",
   "metadata": {},
   "outputs": [],
   "source": [
    "df.corr()"
   ]
  },
  {
   "cell_type": "code",
   "execution_count": null,
   "id": "ad2458ce",
   "metadata": {},
   "outputs": [],
   "source": [
    "calculate_vif(df=df, features=['Age','Weight','BSA','Pulse'])"
   ]
  },
  {
   "cell_type": "code",
   "execution_count": null,
   "id": "ee283f73",
   "metadata": {},
   "outputs": [],
   "source": [
    "calculate_vif(df=df, features=['Age','BSA','Pulse'])"
   ]
  },
  {
   "cell_type": "code",
   "execution_count": null,
   "id": "b4f5686c",
   "metadata": {},
   "outputs": [],
   "source": [
    "calculate_vif(df=df, features=['Age','Weight','Pulse'])"
   ]
  },
  {
   "cell_type": "code",
   "execution_count": null,
   "id": "1afda77a",
   "metadata": {},
   "outputs": [],
   "source": [
    "from sklearn import datasets\n",
    "bc = datasets.load_breast_cancer()\n",
    "df = pd.DataFrame(bc.data, columns=bc.feature_names)\n",
    "df\n"
   ]
  },
  {
   "cell_type": "code",
   "execution_count": null,
   "id": "977807e0",
   "metadata": {},
   "outputs": [],
   "source": [
    "sns.pairplot(df.iloc[:,:8])"
   ]
  },
  {
   "cell_type": "code",
   "execution_count": null,
   "id": "cde9ce20",
   "metadata": {},
   "outputs": [],
   "source": [
    "calculate_vif(df=df, features=df.columns[:8])"
   ]
  },
  {
   "cell_type": "code",
   "execution_count": null,
   "id": "8bbff498",
   "metadata": {},
   "outputs": [],
   "source": [
    "calculate_vif(df=df, features=['mean radius', \n",
    "                               'mean texture', \n",
    "                               'mean area', \n",
    "                               'mean smoothness', \n",
    "                               'mean compactness', \n",
    "                               'mean concavity',\n",
    "                               'mean concave points'])\n"
   ]
  },
  {
   "cell_type": "code",
   "execution_count": null,
   "id": "0b7d3059",
   "metadata": {},
   "outputs": [],
   "source": [
    "calculate_vif(df=df, features=['mean radius', \n",
    "                               'mean texture',\n",
    "                                # 'mean area', \n",
    "                               'mean smoothness', \n",
    "                               'mean compactness', \n",
    "                               'mean concavity',\n",
    "                               'mean concave points'])\n"
   ]
  },
  {
   "cell_type": "code",
   "execution_count": null,
   "id": "46a6e308",
   "metadata": {},
   "outputs": [],
   "source": [
    "calculate_vif(df=df, features=['mean radius', \n",
    "                               'mean texture',\n",
    "                                # 'mean area', \n",
    "                               'mean smoothness', \n",
    "                               'mean compactness', \n",
    "                               'mean concavity',\n",
    "                                # 'mean concave points'\n",
    "                              ])\n"
   ]
  },
  {
   "cell_type": "code",
   "execution_count": null,
   "id": "f6a92e00",
   "metadata": {},
   "outputs": [],
   "source": [
    "calculate_vif(df=df, features=['mean radius', \n",
    "                               'mean texture',\n",
    "                                # 'mean area', \n",
    "                               'mean smoothness', \n",
    "                               'mean compactness', \n",
    "                                # 'mean concavity',\n",
    "                                # 'mean concave points'\n",
    "                              ])\n"
   ]
  },
  {
   "cell_type": "code",
   "execution_count": null,
   "id": "5e60cc44",
   "metadata": {},
   "outputs": [],
   "source": []
  }
 ],
 "metadata": {
  "kernelspec": {
   "display_name": "Python 3 (ipykernel)",
   "language": "python",
   "name": "python3"
  },
  "language_info": {
   "codemirror_mode": {
    "name": "ipython",
    "version": 3
   },
   "file_extension": ".py",
   "mimetype": "text/x-python",
   "name": "python",
   "nbconvert_exporter": "python",
   "pygments_lexer": "ipython3",
   "version": "3.11.4"
  }
 },
 "nbformat": 4,
 "nbformat_minor": 5
}
