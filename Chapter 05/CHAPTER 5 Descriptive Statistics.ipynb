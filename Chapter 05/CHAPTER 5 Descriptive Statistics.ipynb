{
 "cells": [
  {
   "cell_type": "code",
   "execution_count": null,
   "id": "b2c94102",
   "metadata": {},
   "outputs": [],
   "source": [
    "import pandas as pd\n",
    "\n",
    "df = pd.read_csv('AAPL.csv')\n",
    "df\n"
   ]
  },
  {
   "cell_type": "code",
   "execution_count": null,
   "id": "df253af5",
   "metadata": {},
   "outputs": [],
   "source": [
    "df['Close'].mean()      # 205.26482065338644"
   ]
  },
  {
   "cell_type": "code",
   "execution_count": null,
   "id": "8800743f",
   "metadata": {},
   "outputs": [],
   "source": [
    "df['Close'].aggregate('sum') / df['Close'].count()   # 205.26482065338644"
   ]
  },
  {
   "cell_type": "code",
   "execution_count": null,
   "id": "97dcd6f9",
   "metadata": {},
   "outputs": [],
   "source": [
    "temperatures = [28, 29, 28.5, 29.1, 30, 30.1, 29.8, 28.9]"
   ]
  },
  {
   "cell_type": "code",
   "execution_count": null,
   "id": "ef1b5129",
   "metadata": {},
   "outputs": [],
   "source": [
    "import statistics\n",
    "\n",
    "statistics.mean(temperatures)   # 29.175\n"
   ]
  },
  {
   "cell_type": "code",
   "execution_count": null,
   "id": "027daaac",
   "metadata": {},
   "outputs": [],
   "source": [
    "temperatures = [28, 29, 28.5, 29.1, 30, 30.1, 29.8, 99.9]\n",
    "statistics.mean(temperatures)   # 38.050000000000004\n"
   ]
  },
  {
   "cell_type": "code",
   "execution_count": null,
   "id": "fdda9c00",
   "metadata": {},
   "outputs": [],
   "source": [
    "temperatures.sort()\n",
    "temperatures    # [28, 28.5, 28.9, 29, 29.1, 29.8, 30, 30.1]\n"
   ]
  },
  {
   "cell_type": "code",
   "execution_count": null,
   "id": "15700f12",
   "metadata": {},
   "outputs": [],
   "source": [
    "statistics.median(temperatures)  # 29.05"
   ]
  },
  {
   "cell_type": "code",
   "execution_count": null,
   "id": "8daf8e23",
   "metadata": {},
   "outputs": [],
   "source": [
    "temperatures = [28, 29, 28.5, 29.1, 30, 30.1, 29.8, 99.9]\n",
    "statistics.median(temperatures)  # 29.450000000000003\n"
   ]
  },
  {
   "cell_type": "code",
   "execution_count": null,
   "id": "69f7ee0d",
   "metadata": {},
   "outputs": [],
   "source": [
    "df['Close'].median()"
   ]
  },
  {
   "cell_type": "code",
   "execution_count": null,
   "id": "2301cba8",
   "metadata": {},
   "outputs": [],
   "source": [
    "grades = ['A','B','E','B','B','C','A','D','F']"
   ]
  },
  {
   "cell_type": "code",
   "execution_count": null,
   "id": "c864233f",
   "metadata": {},
   "outputs": [],
   "source": [
    "statistics.mode(grades)     # 'B'"
   ]
  },
  {
   "cell_type": "code",
   "execution_count": null,
   "id": "b19e389f",
   "metadata": {},
   "outputs": [],
   "source": [
    "import matplotlib.pyplot as plt\n",
    "\n",
    "grades = ['A', 'B', 'E', 'B', 'B', 'C', 'A', 'D', 'F']\n",
    "\n",
    "# mapping of grades to numerical values\n",
    "grade_mapping = {'A': 1, 'B': 2, 'C': 3, 'D': 4, 'E': 5, 'F': 6}\n",
    "\n",
    "# map the grades to numerical values\n",
    "numeric_grades = [grade_mapping[grade] for grade in grades]\n",
    "\n",
    "# create a histogram\n",
    "plt.hist(numeric_grades, bins=range(1, 8), \n",
    "         align='left', rwidth=0.8, color='skyblue')\n",
    "\n",
    "# set x-axis labels to represent grades\n",
    "plt.xticks(range(1, 7), list(grade_mapping.keys()))\n",
    "\n",
    "plt.xlabel('Grades')\n",
    "plt.ylabel('Frequency')\n",
    "plt.title('Grade Distribution')\n",
    "plt.show()\n"
   ]
  },
  {
   "cell_type": "code",
   "execution_count": null,
   "id": "2fdacc66",
   "metadata": {},
   "outputs": [],
   "source": [
    "scores = [90.5, 90, 45.5, 89, 76, 89, 56, 90]\n",
    "statistics.mode(scores)\n",
    "# 90\n"
   ]
  },
  {
   "cell_type": "code",
   "execution_count": null,
   "id": "b525d3a4",
   "metadata": {},
   "outputs": [],
   "source": [
    "df['Close'].mode()"
   ]
  },
  {
   "cell_type": "code",
   "execution_count": null,
   "id": "2447e764",
   "metadata": {},
   "outputs": [],
   "source": [
    "import pandas as pd\n",
    "\n",
    "data = {\n",
    "    'Course': ['Math', 'Science', 'History', 'English'],\n",
    "    'Grade': ['A', 'B', 'D', 'A'],\n",
    "    'Credits': [3, 4, 3, 2]\n",
    "}\n",
    "\n",
    "df = pd.DataFrame(data)\n",
    "df\n"
   ]
  },
  {
   "cell_type": "code",
   "execution_count": null,
   "id": "566aca3d",
   "metadata": {},
   "outputs": [],
   "source": [
    "grade_to_numeric = {'A': 4.0, 'B': 3.0, 'C': 2.0, 'D': 1.0, 'F': 0.0}\n",
    "df['Grade_value'] = df['Grade'].map(grade_to_numeric)\n",
    "df\n"
   ]
  },
  {
   "cell_type": "code",
   "execution_count": null,
   "id": "5de39c1b",
   "metadata": {},
   "outputs": [],
   "source": [
    "# calculate the weighted mean of GPA\n",
    "weighted_mean = (df['Grade_value'] * df['Credits']).sum() / df['Credits'].sum()\n",
    "\n",
    "print(f'Weighted Mean GPA: {weighted_mean:.2f}')\n",
    "# Weighted Mean GPA: 2.92\n"
   ]
  },
  {
   "cell_type": "code",
   "execution_count": null,
   "id": "a7e245ab",
   "metadata": {},
   "outputs": [],
   "source": [
    "temperatures = [28, 29, 28.5, 29.1, 30, 30.1, 29.8, 28.9]\n",
    "print(f'Range: {(max(temperatures) - min(temperatures)):.2f}')\n",
    "# Range: 2.10\n"
   ]
  },
  {
   "cell_type": "code",
   "execution_count": null,
   "id": "0934417d",
   "metadata": {},
   "outputs": [],
   "source": [
    "temperatures = [28, 29, 28.5, 29.1, 30, 30.1, 29.8, 99.9]\n",
    "print(f'Range: {(max(temperatures) - min(temperatures)):.2f}')\n",
    "# Range: 71.90\n"
   ]
  },
  {
   "cell_type": "code",
   "execution_count": null,
   "id": "dd33bbf6",
   "metadata": {},
   "outputs": [],
   "source": [
    "df"
   ]
  },
  {
   "cell_type": "code",
   "execution_count": null,
   "id": "fb4db59b",
   "metadata": {},
   "outputs": [],
   "source": [
    "spread = df['Grade_value'].max() - df['Grade_value'].min()\n",
    "spread   # 3\n"
   ]
  },
  {
   "cell_type": "code",
   "execution_count": null,
   "id": "cd52cd3d",
   "metadata": {},
   "outputs": [],
   "source": [
    "import pandas as pd\n",
    "\n",
    "df = pd.DataFrame({\n",
    "    'a':[1,3,4,6,8],\n",
    "    'b':[2,3,5,6,8],\n",
    "    'c':[6,5,4,3,2],\n",
    "    'd':[5,4,3,4,6]\n",
    "})\n",
    "df\n"
   ]
  },
  {
   "cell_type": "code",
   "execution_count": null,
   "id": "e09fff70",
   "metadata": {},
   "outputs": [],
   "source": [
    "df.var(ddof=1)"
   ]
  },
  {
   "cell_type": "code",
   "execution_count": null,
   "id": "5d4a46a7",
   "metadata": {},
   "outputs": [],
   "source": [
    "import numpy as np\n",
    "np.var(df[['a','b','c','d']], ddof=1)"
   ]
  },
  {
   "cell_type": "code",
   "execution_count": null,
   "id": "26669e4b",
   "metadata": {},
   "outputs": [],
   "source": [
    "import seaborn as sns\n",
    "\n",
    "g = sns.stripplot(data = df.melt(), \n",
    "                  x = 'variable', \n",
    "                  y = 'value', \n",
    "                  color = 'red')\n",
    "sns.boxplot(data = df.melt(),\n",
    "            x = 'variable', \n",
    "            y = 'value', \n",
    "            color = 'yellow')\n"
   ]
  },
  {
   "cell_type": "code",
   "execution_count": null,
   "id": "c08f4818",
   "metadata": {},
   "outputs": [],
   "source": [
    "df.std(ddof=1)\n",
    "# OR\n",
    "np.std(df[['a','b','c','d']], ddof=1)\n"
   ]
  },
  {
   "cell_type": "code",
   "execution_count": null,
   "id": "5b5aae6b",
   "metadata": {},
   "outputs": [],
   "source": [
    "nums_1 = [4,6,3,4,8,9,4,5,6,1,2,3]\n",
    "nums_2 = [89,90,78,86,77,98,78,88,96,84,93]\n"
   ]
  },
  {
   "cell_type": "code",
   "execution_count": null,
   "id": "534b0c22",
   "metadata": {},
   "outputs": [],
   "source": [
    "np.std(nums_1, ddof=1) / np.mean(nums_1) * 100\n",
    "# 51.34406853185143\n"
   ]
  },
  {
   "cell_type": "code",
   "execution_count": null,
   "id": "f5d00126",
   "metadata": {},
   "outputs": [],
   "source": [
    "np.std(nums_2, ddof=1) / np.mean(nums_2) * 100\n",
    "# 8.320441871656946\n"
   ]
  },
  {
   "cell_type": "code",
   "execution_count": null,
   "id": "287502eb",
   "metadata": {},
   "outputs": [],
   "source": [
    "import numpy as np\n",
    "\n",
    "nums = [4,6,3,4,8,9,4,5,6,1,2,9]\n",
    "mean = np.mean(nums)\n",
    "std = np.std(nums)\n",
    "absolute_deviations = np.abs(nums - mean)\n",
    "mad = np.mean(absolute_deviations)\n",
    "\n",
    "print(f'STD is {std}')\n",
    "print(f'MAD is {mad}')\n"
   ]
  },
  {
   "cell_type": "code",
   "execution_count": null,
   "id": "97df2c10",
   "metadata": {},
   "outputs": [],
   "source": [
    "nums = [4,6,3,4,8,9,4,5,6,1,2,99]"
   ]
  },
  {
   "cell_type": "code",
   "execution_count": null,
   "id": "af445c93",
   "metadata": {},
   "outputs": [],
   "source": [
    "months = [1,2,3,4,5,6,7,8,9,10,11,12]\n",
    "freq = [1,2,3,5,7,9,14,17,20,23,19,17]\n"
   ]
  },
  {
   "cell_type": "code",
   "execution_count": null,
   "id": "5da5f0d6",
   "metadata": {},
   "outputs": [],
   "source": [
    "import matplotlib.pyplot as plt\n",
    "plt.bar(months,freq, color='skyblue', width=1.0, edgecolor='black', linewidth=0.5)\n"
   ]
  },
  {
   "cell_type": "code",
   "execution_count": null,
   "id": "601c49b9",
   "metadata": {},
   "outputs": [],
   "source": [
    "data = []\n",
    "for index, n in enumerate(months):\n",
    "    for num in range(freq[index]):\n",
    "        data.append(n)        \n",
    "print(data)\n"
   ]
  },
  {
   "cell_type": "code",
   "execution_count": null,
   "id": "d2070558",
   "metadata": {},
   "outputs": [],
   "source": [
    "import matplotlib.pyplot as plt\n",
    "plt.bar(months,freq, color='skyblue', width=1.0, edgecolor='black', linewidth=0.5)\n",
    "\n",
    "from scipy.stats import skew\n",
    "\n",
    "skewness = skew(data)\n",
    "plt.title(f\"Skewness: {skewness:.2f} ({'Left Skewed' if skewness<0 else 'Right Skewed' if skewness >0 else 'Symmetric'})\")\n",
    "plt.show()"
   ]
  },
  {
   "cell_type": "code",
   "execution_count": null,
   "id": "56109806",
   "metadata": {},
   "outputs": [],
   "source": [
    "# right skewed\n",
    "freq = [17, 19, 23, 20, 17, 14, 9, 7, 5, 3, 2, 1]\n"
   ]
  },
  {
   "cell_type": "code",
   "execution_count": null,
   "id": "b19d6b52",
   "metadata": {},
   "outputs": [],
   "source": [
    "# symmetrical\n",
    "freq = [1,2,3,4,5,6,6,5,4,3,2,1]\n"
   ]
  },
  {
   "cell_type": "code",
   "execution_count": null,
   "id": "0f82285f",
   "metadata": {},
   "outputs": [],
   "source": [
    "import numpy as np\n",
    "import matplotlib.pyplot as plt\n",
    "from scipy.stats import skew, kurtosis\n",
    "\n",
    "months    = [1,2,3,4,5,6,7,8,9,10,11,12]\n",
    "# high kurtosis\n",
    "freq = [1,2,2,3,2,26,26,2,3,2,2,1]\n",
    "\n",
    "data = []\n",
    "for index, n in enumerate(months):\n",
    "    for num in range(freq[index]):\n",
    "        data.append(n)        \n",
    "print(data)\n",
    "\n",
    "plt.bar(months, freq, color='skyblue', width=1.0, edgecolor='black', linewidth=0.5)\n",
    "\n",
    "kurt = kurtosis(data)\n",
    "plt.title(f\"Kurtosis: {kurt:.2f}\")\n",
    "plt.show()\n"
   ]
  },
  {
   "cell_type": "code",
   "execution_count": null,
   "id": "58781142",
   "metadata": {},
   "outputs": [],
   "source": [
    "# low kurtosis\n",
    "freq = [2,1,3,2,1,3,4,2,2,1,3,2]\n",
    "data = []\n",
    "for index, n in enumerate(months):\n",
    "    for num in range(freq[index]):\n",
    "        data.append(n)        \n",
    "print(data)\n",
    "\n",
    "plt.bar(months, freq, color='skyblue', width=1.0, edgecolor='black', linewidth=0.5)\n",
    "\n",
    "kurt = kurtosis(data)\n",
    "plt.title(f\"Kurtosis: {kurt:.2f}\")\n",
    "plt.show()"
   ]
  },
  {
   "cell_type": "code",
   "execution_count": null,
   "id": "019e783e",
   "metadata": {},
   "outputs": [],
   "source": [
    "import numpy as np\n",
    "\n",
    "data = [15, 20, 22, 25, 30, 35, 40, 42, 50, 60]\n",
    "\n",
    "# calculate the 25th percentile (Q1)\n",
    "q1 = np.percentile(data, 25)\n",
    "\n",
    "# calculate the median (50th percentile)\n",
    "median = np.percentile(data, 50)\n",
    "\n",
    "# calculate the 75th percentile (Q3)\n",
    "q3 = np.percentile(data, 75)\n",
    "\n",
    "print(\"25th Percentile (Q1):\", q1)\n",
    "print(\"Median (50th Percentile):\", median)\n",
    "print(\"75th Percentile (Q3):\", q3)"
   ]
  },
  {
   "cell_type": "code",
   "execution_count": null,
   "id": "4eee7e9b",
   "metadata": {},
   "outputs": [],
   "source": [
    "import numpy as np\n",
    "\n",
    "def outliers_iqr(data):\n",
    "    quartile_1, quartile_3 = np.percentile(data, [25, 75])\n",
    "    iqr = quartile_3 - quartile_1    \n",
    "    lower_bound = quartile_1 - (iqr * 1.5)\n",
    "    upper_bound = quartile_3 + (iqr * 1.5)        \n",
    "    print(f'IQR: {iqr}, Lower: {lower_bound}, Upper: {upper_bound}')    \n",
    "    return np.where((data > upper_bound) | (data < lower_bound))\n"
   ]
  },
  {
   "cell_type": "code",
   "execution_count": null,
   "id": "f6c020e0",
   "metadata": {},
   "outputs": [],
   "source": [
    "nums = [-4,6,3,4,8,9,4,5,6,1,2,99]\n",
    "outliers_iqr(nums)\n"
   ]
  },
  {
   "cell_type": "code",
   "execution_count": null,
   "id": "23f18296",
   "metadata": {},
   "outputs": [],
   "source": [
    "import numpy as np\n",
    "\n",
    "def outliers_z_score(data):\n",
    "    threshold = 3\n",
    "    mean_y = np.mean(data)\n",
    "    stdev_y = np.std(data)\n",
    "    z_scores = [(y - mean_y) / stdev_y for y in data]\n",
    "    return np.where(np.abs(z_scores) > threshold)\n",
    "\n",
    "nums = [-4,6,3,4,8,9,4,5,6,1,2,99]\n",
    "outliers_z_score(nums)\n"
   ]
  },
  {
   "cell_type": "code",
   "execution_count": null,
   "id": "5c6af436",
   "metadata": {},
   "outputs": [],
   "source": []
  }
 ],
 "metadata": {
  "kernelspec": {
   "display_name": "Python 3 (ipykernel)",
   "language": "python",
   "name": "python3"
  },
  "language_info": {
   "codemirror_mode": {
    "name": "ipython",
    "version": 3
   },
   "file_extension": ".py",
   "mimetype": "text/x-python",
   "name": "python",
   "nbconvert_exporter": "python",
   "pygments_lexer": "ipython3",
   "version": "3.11.4"
  }
 },
 "nbformat": 4,
 "nbformat_minor": 5
}
