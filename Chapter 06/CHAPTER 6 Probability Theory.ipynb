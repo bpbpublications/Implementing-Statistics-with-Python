{
 "cells": [
  {
   "cell_type": "code",
   "execution_count": null,
   "id": "9fd72f62",
   "metadata": {},
   "outputs": [],
   "source": [
    "import numpy as np\n",
    "\n",
    "# 1 to 6 on a die face\n",
    "sample_space = np.arange(1, 7)\n",
    "\n",
    "# rolling an even number\n",
    "evens = np.array([2, 4, 6])  \n",
    "\n",
    "classical_probability_even = len(evens) / len(sample_space)\n",
    "# 0.5\n"
   ]
  },
  {
   "cell_type": "code",
   "execution_count": null,
   "id": "31f3c4dc",
   "metadata": {},
   "outputs": [],
   "source": [
    "one = np.array([1])  \n",
    "classical_probability_one = len(one) / len(sample_space)\n",
    "# 0.16666666666666666\n"
   ]
  },
  {
   "cell_type": "code",
   "execution_count": null,
   "id": "0283fc4a",
   "metadata": {},
   "outputs": [],
   "source": [
    "# generates 1000 random outcomes from rolling a fair six-sided die\n",
    "outcomes = np.random.choice([1,2,3,4,5,6], size = 1000)\n",
    "\n",
    "# count the frequency of occurrences of getting a 1\n",
    "frequency_1s = np.sum(outcomes == 1)\n",
    "\n",
    "# calculate the empirical frequency\n",
    "empirical_probability_1s = frequency_1s / len(outcomes)\n"
   ]
  },
  {
   "cell_type": "code",
   "execution_count": null,
   "id": "f44e037c",
   "metadata": {},
   "outputs": [],
   "source": [
    "# probability of arriving by train\n",
    "probability_by_train = 0.3 \n",
    "# probability of arriving by taxi\n",
    "probability_by_taxi = 0.2  \n",
    "# probability of arriving by bus\n",
    "probability_by_bus = 0.5\n"
   ]
  },
  {
   "cell_type": "code",
   "execution_count": null,
   "id": "8e363d73",
   "metadata": {},
   "outputs": [],
   "source": [
    "# probability of arriving by train OR bus\n",
    "prob_by_train_or_bus = probability_by_train + probability_by_bus\n",
    "# 0.8\n"
   ]
  },
  {
   "cell_type": "code",
   "execution_count": null,
   "id": "2eb744ce",
   "metadata": {},
   "outputs": [],
   "source": [
    "# probability of getting a one\n",
    "probability_one = 1 / 6\n",
    "# probability of getting a two\n",
    "probability_two = 1 / 6\n",
    "\n",
    "# probability of getting a 1 AND then 2\n",
    "proability_one_then_two = probability_one * probability_two\n",
    "# 0.027777777777777776\n"
   ]
  },
  {
   "cell_type": "code",
   "execution_count": null,
   "id": "f111cd15",
   "metadata": {},
   "outputs": [],
   "source": [
    "import numpy as np\n",
    "sample_space = np.arange(1, 7) # number of sides - 6\n",
    "event_A = np.array([6])        # get a 6\n",
    "event_B = np.array([2,4,6])    # even numbers\n",
    "probability_A_given_B = len(np.intersect1d(event_A, event_B)) / len(event_B)\n",
    "# 0.3333333333333333\n"
   ]
  },
  {
   "cell_type": "code",
   "execution_count": null,
   "id": "a2d17507",
   "metadata": {},
   "outputs": [],
   "source": [
    "# total number of diamond cards\n",
    "diamonds = 13\n",
    "\n",
    "# total number of cards\n",
    "total_cards = 52\n",
    "\n",
    "# probability of drawing the first diamond\n",
    "probability_first_diamond = diamonds / total_cards\n",
    "\n",
    "# total number of cards after the first draw\n",
    "total_cards -= 1\n",
    "\n",
    "# after drawing the first diamond, there are now 3 diamonds left\n",
    "diamonds -=1\n",
    "\n",
    "# probability of drawing a second diamond after the first diamond\n",
    "probability_second_diamond_given_first_diamond = diamonds / total_cards\n",
    "\n",
    "# calculate the probability of drawing two diamonds\n",
    "probability_both_diamonds = probability_first_diamond * \\\n",
    "                            probability_second_diamond_given_first_diamond\n",
    "# 0.058823529411764705\n"
   ]
  },
  {
   "cell_type": "code",
   "execution_count": null,
   "id": "c8cd4c17",
   "metadata": {},
   "outputs": [],
   "source": [
    "import random\n",
    "random.random()   # e.g. 0.49543508709194095\n"
   ]
  },
  {
   "cell_type": "code",
   "execution_count": null,
   "id": "9b9d521b",
   "metadata": {},
   "outputs": [],
   "source": [
    "random.randint(0,10)  # [0,10] - 0 to 10 (inclusive) e.g. 6"
   ]
  },
  {
   "cell_type": "code",
   "execution_count": null,
   "id": "040e7ee4",
   "metadata": {},
   "outputs": [],
   "source": [
    "random.uniform(1,5)  # [1,5) e.g. 4.756596651114043"
   ]
  },
  {
   "cell_type": "code",
   "execution_count": null,
   "id": "2812edd9",
   "metadata": {},
   "outputs": [],
   "source": [
    "random.sample(range(0, 32), 5)    # result is a list of 5 values \n",
    "                                  # from [0,32) with no repeats"
   ]
  },
  {
   "cell_type": "code",
   "execution_count": null,
   "id": "8415d1fd",
   "metadata": {},
   "outputs": [],
   "source": [
    "[random.random() for _ in range(5)]        # [0, 1)"
   ]
  },
  {
   "cell_type": "code",
   "execution_count": null,
   "id": "132007e4",
   "metadata": {},
   "outputs": [],
   "source": [
    "[random.uniform(1,5) for _ in range(5)]    # [1, 5)"
   ]
  },
  {
   "cell_type": "code",
   "execution_count": null,
   "id": "8b3e23be",
   "metadata": {},
   "outputs": [],
   "source": [
    "[random.randint(0,10) for _ in range(5)]   # [0,10]"
   ]
  },
  {
   "cell_type": "code",
   "execution_count": null,
   "id": "0227d466",
   "metadata": {},
   "outputs": [],
   "source": [
    "import numpy as np\n",
    "np.random.uniform()   # [0,1) e.g. 0.6603742810407641"
   ]
  },
  {
   "cell_type": "code",
   "execution_count": null,
   "id": "c990e9cb",
   "metadata": {},
   "outputs": [],
   "source": [
    "np.random.uniform(1,5)      # [1,5) e.g. 2.1809140016758803"
   ]
  },
  {
   "cell_type": "code",
   "execution_count": null,
   "id": "126a0dc1",
   "metadata": {},
   "outputs": [],
   "source": [
    "np.random.uniform(1,5,8)    # [1,5) x 8 values"
   ]
  },
  {
   "cell_type": "code",
   "execution_count": null,
   "id": "986132b1",
   "metadata": {},
   "outputs": [],
   "source": [
    "np.random.uniform(1,5,(2,4))  # [1,5) - result is a 2D array of \n",
    "                              # 2 rows and 4 columns"
   ]
  },
  {
   "cell_type": "code",
   "execution_count": null,
   "id": "a92be4c0",
   "metadata": {},
   "outputs": [],
   "source": [
    "np.random.rand()      # [0,1) e.g. 0.11705786929477491"
   ]
  },
  {
   "cell_type": "code",
   "execution_count": null,
   "id": "0213f920",
   "metadata": {},
   "outputs": [],
   "source": [
    "np.random.rand(5)     # [0,1) x 5"
   ]
  },
  {
   "cell_type": "code",
   "execution_count": null,
   "id": "7624ab1d",
   "metadata": {},
   "outputs": [],
   "source": [
    "np.random.rand(2,3)   # [0,1) in 2D"
   ]
  },
  {
   "cell_type": "code",
   "execution_count": null,
   "id": "12d0250f",
   "metadata": {},
   "outputs": [],
   "source": [
    "np.random.random(5)  "
   ]
  },
  {
   "cell_type": "code",
   "execution_count": null,
   "id": "514682fb",
   "metadata": {},
   "outputs": [],
   "source": [
    "np.random.random((2,3))  # passed the dimension you want as a tuple"
   ]
  },
  {
   "cell_type": "code",
   "execution_count": null,
   "id": "58c9e2dc",
   "metadata": {},
   "outputs": [],
   "source": [
    "np.random.randint(0,9)        # [0,9) e.g. 7"
   ]
  },
  {
   "cell_type": "code",
   "execution_count": null,
   "id": "2cf47e43",
   "metadata": {},
   "outputs": [],
   "source": [
    "np.random.randint(0,9,5)      # [0,9) x 5"
   ]
  },
  {
   "cell_type": "code",
   "execution_count": null,
   "id": "11d21a4c",
   "metadata": {},
   "outputs": [],
   "source": [
    "np.random.randint(0,9,(4,5))  # [0,9) in 2D array  "
   ]
  },
  {
   "cell_type": "code",
   "execution_count": null,
   "id": "83eb491a",
   "metadata": {},
   "outputs": [],
   "source": [
    "import numpy as np\n",
    "import matplotlib.pyplot as plt\n",
    "\n",
    "n = 10              # number of trials (coin flips)\n",
    "p = 0.5             # probability of success (getting heads)\n",
    "sample_size = 1000  # number of samples to generate\n",
    "\n",
    "# generate a sample from the binomial distribution\n",
    "sample = np.random.binomial(n, p, sample_size)\n",
    "\n",
    "# plotting the histogram of the sample\n",
    "plt.hist(sample, \n",
    "         bins=np.arange(0, n+2)-0.5, \n",
    "         density=True, \n",
    "         alpha=0.5, \n",
    "         color='blue', \n",
    "         edgecolor='black')\n",
    "plt.xlabel('Number of Successes (Heads)')\n",
    "plt.ylabel('Probability')\n",
    "plt.title(f'Sample from Binomial Distribution (n={n}, p={p})')\n",
    "plt.grid(True)\n"
   ]
  },
  {
   "cell_type": "code",
   "execution_count": null,
   "id": "82fe7d9c",
   "metadata": {},
   "outputs": [],
   "source": [
    "# plotting the histogram of the sample\n",
    "plt.hist(sample, \n",
    "         bins=np.arange(0, n+2)-0.5, \n",
    "         density=False, \n",
    "         alpha=0.5, \n",
    "         color='blue', \n",
    "         edgecolor='black')\n",
    "plt.ylabel('Count')\n"
   ]
  },
  {
   "cell_type": "code",
   "execution_count": null,
   "id": "449cc509",
   "metadata": {},
   "outputs": [],
   "source": [
    "import numpy as np\n",
    "import matplotlib.pyplot as plt\n",
    "\n",
    "# the various parameters of the game\n",
    "num_flips = 10           # number of coin flips in each round\n",
    "num_rounds = 10000       # number of rounds to simulate\n",
    "probability_heads = 0.5  # probability of getting heads in each flip\n",
    "\n",
    "# simulate the outcomes of the coin toss game using binomial distribution\n",
    "outcomes = np.random.binomial(num_flips, probability_heads, num_rounds)\n",
    "\n",
    "# calculate the number of rounds won by the players (majority of heads)\n",
    "rounds_won = (outcomes > num_flips / 2).sum()  # player wins if number of heads is\n",
    "                                               # more than 5 (10 rounds divided \n",
    "                                               # by 2)\n",
    "\n",
    "# calculate the probability of winning a round\n",
    "probability_win = rounds_won / num_rounds\n",
    "print(\"Probability of winning a round:\", probability_win)\n",
    "\n",
    "# plot the histogram of outcomes\n",
    "plt.hist(outcomes, bins = np.arange(0, num_flips+2)-0.5, \n",
    "         density=True, alpha=0.5, color='blue', edgecolor='black')\n",
    "plt.xlabel('Number of Heads')\n",
    "plt.ylabel('Probability')\n",
    "plt.title('Outcome Distribution for Coin Toss Game')\n",
    "plt.grid(True)\n"
   ]
  },
  {
   "cell_type": "code",
   "execution_count": null,
   "id": "80ea4321",
   "metadata": {},
   "outputs": [],
   "source": [
    "import numpy as np\n",
    "import matplotlib.pyplot as plt\n",
    "\n",
    "lambda_val = 3           # average rate of customer arrivals\n",
    "\n",
    "# generate a sample from the Poisson distribution\n",
    "sample_size = 1000\n",
    "sample = np.random.poisson(lambda_val, sample_size)\n",
    "\n",
    "# plotting the histogram of the sample\n",
    "plt.hist(sample, \n",
    "         bins = np.arange(0, max(sample)+2)-0.5, \n",
    "         density = True, \n",
    "         alpha = 0.5, \n",
    "         color = 'blue',\n",
    "         edgecolor = 'black')\n",
    "plt.xlabel('Number of arrivals per hour')\n",
    "plt.ylabel('Probability')\n",
    "plt.title(f'Poisson Distribution (lambda={lambda_val})')\n",
    "plt.grid(True)\n"
   ]
  },
  {
   "cell_type": "code",
   "execution_count": null,
   "id": "c7c29c6b",
   "metadata": {},
   "outputs": [],
   "source": [
    "k = 4                          # number of customers arriving per hour\n",
    "probability = np.sum(sample == k) / sample_size\n",
    "print(f\"Probability of {k} customer arrivals:\", probability)\n"
   ]
  },
  {
   "cell_type": "code",
   "execution_count": null,
   "id": "0d0f84a6",
   "metadata": {},
   "outputs": [],
   "source": [
    "import matplotlib.pyplot as plt\n",
    "plt.hist(np.random.random(1_000_000), bins = 25)\n"
   ]
  },
  {
   "cell_type": "code",
   "execution_count": null,
   "id": "84a61707",
   "metadata": {},
   "outputs": [],
   "source": [
    "import numpy as np\n",
    "import matplotlib.pyplot as plt\n",
    "\n",
    "# possible outcomes for a fair six-sided die (1 to 6)\n",
    "min_value = 1\n",
    "max_value = 6\n",
    "\n",
    "# simulate rolling the die 1000 times\n",
    "num_rolls = 1000\n",
    "rolls = np.random.randint(min_value, max_value + 1, num_rolls)\n",
    "\n",
    "# calculate the frequencies of each outcome\n",
    "roll_counts = np.bincount(rolls)[min_value:]\n",
    "\n",
    "# Plotting the bar chart\n",
    "plt.bar(range(min_value, max_value + 1), roll_counts, color='blue', alpha=0.7)\n",
    "plt.xlabel('Outcome')\n",
    "plt.ylabel('Frequency')\n",
    "plt.title('Simulation of Rolling a Fair Six-Sided Die')\n",
    "plt.xticks(range(min_value, max_value + 1))\n",
    "plt.grid(axis='y')\n",
    "plt.show()\n"
   ]
  },
  {
   "cell_type": "code",
   "execution_count": null,
   "id": "9312628f",
   "metadata": {},
   "outputs": [],
   "source": [
    "np.random.randn(4,3)"
   ]
  },
  {
   "cell_type": "code",
   "execution_count": null,
   "id": "a9a55c1b",
   "metadata": {},
   "outputs": [],
   "source": [
    "_ = plt.hist(np.random.randn(1_000_000), bins=50)"
   ]
  },
  {
   "cell_type": "code",
   "execution_count": null,
   "id": "c5938356",
   "metadata": {},
   "outputs": [],
   "source": [
    "_ = plt.hist(np.random.normal(5, 2, 1_000_000), bins=50)"
   ]
  },
  {
   "cell_type": "code",
   "execution_count": null,
   "id": "88d1289d",
   "metadata": {},
   "outputs": [],
   "source": [
    "import numpy as np\n",
    "import matplotlib.pyplot as plt\n",
    "\n",
    "mean = 0\n",
    "std_dev = 1\n",
    "\n",
    "# create the x values for the PDF (probability density function) plot\n",
    "x = np.linspace(mean - 3*std_dev, mean + 3*std_dev, 100)\n",
    "\n",
    "# calculate the PDF values for a normal distribution\n",
    "pdf = (1/(std_dev * np.sqrt(2*np.pi))) * np.exp(-0.5*((x - mean)/std_dev)**2)\n",
    "\n",
    "# plot the PDF\n",
    "plt.plot(x, pdf, color='black')\n",
    "\n",
    "# fill with colors\n",
    "region_68 = x[(x >= mean - std_dev) & (x <= mean + std_dev)]\n",
    "region_95 = x[(x >= mean - 2*std_dev) & (x <= mean + 2*std_dev)]\n",
    "region_997 = x[(x >= mean - 3*std_dev) & (x <= mean + 3*std_dev)]\n",
    "\n",
    "# fill the areas under the curve with colors\n",
    "plt.fill_between(region_997, \n",
    "                 pdf[(x >= mean - 3*std_dev) & (x <= mean + 3*std_dev)], \n",
    "                 color='lightblue', \n",
    "                 alpha=1, \n",
    "                 label='99.7%')\n",
    "plt.fill_between(region_95, \n",
    "                 pdf[(x >= mean - 2*std_dev) & (x <= mean + 2*std_dev)], \n",
    "                 color='cornflowerblue', \n",
    "                 alpha=1, \n",
    "                 label='95%')\n",
    "plt.fill_between(region_68, \n",
    "                 pdf[(x >= mean - std_dev) & (x <= mean + std_dev)], \n",
    "                 color='royalblue', \n",
    "                 alpha=1, \n",
    "                 label='68%')\n",
    "\n",
    "# add labels and a legend\n",
    "plt.xlabel('X-axis')\n",
    "plt.ylabel('Probability Density')\n",
    "plt.legend()\n"
   ]
  },
  {
   "cell_type": "code",
   "execution_count": null,
   "id": "25cdd92b",
   "metadata": {},
   "outputs": [],
   "source": [
    "import numpy as np\n",
    "import matplotlib.pyplot as plt\n",
    "\n",
    "mean = 77\n",
    "std_dev = 6\n",
    "\n",
    "# create the x values for the PDF (probability density function) plot\n",
    "x = np.linspace(mean - 3*std_dev, mean + 3*std_dev, 100)\n",
    "\n",
    "# calculate the PDF values for a normal distribution\n",
    "pdf = (1/(std_dev * np.sqrt(2*np.pi))) * np.exp(-0.5*((x - mean)/std_dev)**2)\n",
    "\n",
    "# plot the PDF\n",
    "plt.plot(x, pdf, color='black')\n",
    "\n",
    "# fill with colors\n",
    "region_68 = x[(x >= mean - std_dev) & (x <= mean + std_dev)]\n",
    "region_95 = x[(x >= mean - 2*std_dev) & (x <= mean + 2*std_dev)]\n",
    "region_997 = x[(x >= mean - 3*std_dev) & (x <= mean + 3*std_dev)]\n",
    "\n",
    "# fill the areas under the curve with colors\n",
    "plt.fill_between(region_997, \n",
    "                 pdf[(x >= mean - 3*std_dev) & (x <= mean + 3*std_dev)], \n",
    "                 color='lightblue', \n",
    "                 alpha=1, \n",
    "                 label='99.7%')\n",
    "plt.fill_between(region_95, \n",
    "                 pdf[(x >= mean - 2*std_dev) & (x <= mean + 2*std_dev)], \n",
    "                 color='cornflowerblue', \n",
    "                 alpha=1, \n",
    "                 label='95%')\n",
    "plt.fill_between(region_68, \n",
    "                 pdf[(x >= mean - std_dev) & (x <= mean + std_dev)], \n",
    "                 color='royalblue', \n",
    "                 alpha=1, \n",
    "                 label='68%')\n",
    "\n",
    "# plot a point at x=84\n",
    "plt.scatter([84], [0], color='red')\n",
    "\n",
    "# add labels and a legend\n",
    "plt.xlabel('X-axis')\n",
    "plt.ylabel('Probability Density')\n",
    "plt.legend()\n"
   ]
  },
  {
   "cell_type": "code",
   "execution_count": null,
   "id": "46149303",
   "metadata": {},
   "outputs": [],
   "source": [
    "import numpy as np\n",
    "import matplotlib.pyplot as plt\n",
    "\n",
    "mean = 400\n",
    "std_dev = 100\n",
    "\n",
    "# create the x values for the PDF (probability density function) plot\n",
    "x = np.linspace(mean - 3*std_dev, mean + 3*std_dev, 100)\n",
    "\n",
    "# calculate the PDF values for a normal distribution\n",
    "pdf = (1/(std_dev * np.sqrt(2*np.pi))) * np.exp(-0.5*((x - mean)/std_dev)**2)\n",
    "\n",
    "# plot the PDF\n",
    "plt.plot(x, pdf, color='black')\n",
    "\n",
    "# fill with colors\n",
    "region_68 = x[(x >= mean - std_dev) & (x <= mean + std_dev)]\n",
    "region_95 = x[(x >= mean - 2*std_dev) & (x <= mean + 2*std_dev)]\n",
    "region_997 = x[(x >= mean - 3*std_dev) & (x <= mean + 3*std_dev)]\n",
    "\n",
    "# fill the areas under the curve with colors\n",
    "plt.fill_between(region_997, \n",
    "                 pdf[(x >= mean - 3*std_dev) & (x <= mean + 3*std_dev)], \n",
    "                 color='lightblue', \n",
    "                 alpha=1, \n",
    "                 label='99.7%')\n",
    "plt.fill_between(region_95, \n",
    "                 pdf[(x >= mean - 2*std_dev) & (x <= mean + 2*std_dev)], \n",
    "                 color='cornflowerblue', \n",
    "                 alpha=1, \n",
    "                 label='95%')\n",
    "plt.fill_between(region_68, \n",
    "                 pdf[(x >= mean - std_dev) & (x <= mean + std_dev)], \n",
    "                 color='royalblue', \n",
    "                 alpha=1, \n",
    "                 label='68%')\n",
    "\n",
    "# plot a point at x=452\n",
    "plt.scatter([452], [0], color='red')\n",
    "\n",
    "# add labels and a legend\n",
    "plt.xlabel('X-axis')\n",
    "plt.ylabel('Probability Density')\n",
    "plt.legend()\n"
   ]
  },
  {
   "cell_type": "code",
   "execution_count": null,
   "id": "d228f043",
   "metadata": {},
   "outputs": [],
   "source": [
    "import numpy as np\n",
    "import matplotlib.pyplot as plt\n",
    "\n",
    "mean = 400\n",
    "std_dev = 100\n",
    "\n",
    "# create the x values for the PDF (probability density function) plot\n",
    "x = np.linspace(mean - 3*std_dev, mean + 3*std_dev, 100)\n",
    "\n",
    "# calculate the PDF values for a normal distribution\n",
    "pdf = (1/(std_dev * np.sqrt(2*np.pi))) * np.exp(-0.5*((x - mean)/std_dev)**2)\n",
    "\n",
    "# plot the PDF\n",
    "plt.plot(x, pdf, color='black')\n",
    "\n",
    "# fill with colors\n",
    "region_68 = x[(x >= mean - std_dev) & (x <= mean + std_dev)]\n",
    "region_95 = x[(x >= mean - 2*std_dev) & (x <= mean + 2*std_dev)]\n",
    "region_997 = x[(x >= mean - 3*std_dev) & (x <= mean + 3*std_dev)]\n",
    "\n",
    "# fill the areas under the curve with colors\n",
    "plt.fill_between(region_997, \n",
    "                 pdf[(x >= mean - 3*std_dev) & (x <= mean + 3*std_dev)], \n",
    "                 color='lightblue', \n",
    "                 alpha=1, \n",
    "                 label='99.7%')\n",
    "plt.fill_between(region_95, \n",
    "                 pdf[(x >= mean - 2*std_dev) & (x <= mean + 2*std_dev)], \n",
    "                 color='cornflowerblue', \n",
    "                 alpha=1, \n",
    "                 label='95%')\n",
    "plt.fill_between(region_68, \n",
    "                 pdf[(x >= mean - std_dev) & (x <= mean + std_dev)], \n",
    "                 color='royalblue', \n",
    "                 alpha=1, \n",
    "                 label='68%')\n",
    "\n",
    "# plot a point at x=600\n",
    "plt.scatter([600], [0], color='red')\n",
    "\n",
    "# add labels and a legend\n",
    "plt.xlabel('X-axis')\n",
    "plt.ylabel('Probability Density')\n",
    "plt.legend()\n"
   ]
  },
  {
   "cell_type": "code",
   "execution_count": null,
   "id": "7ae0a5a4",
   "metadata": {},
   "outputs": [],
   "source": [
    "import pandas as pd\n",
    "d = {\n",
    "    'name'  :['Alice', 'Bob', 'Clara', 'David', 'Emily', \n",
    "              'Frank', 'Grace', 'Henry', 'Isabel', 'Jack'],\n",
    "    'age'   :[21, 35, 20, 67, 35, 46, 33, 70, 52, 31],\n",
    "    'income':[3010, 5200, 2550, 5010, 4580, 5050, 4510, 1500, 4620, 2410]\n",
    "}\n",
    "# create dataframe from dictionary\n",
    "df = pd.DataFrame(d,columns=['name','age','income'])\n",
    "df\n"
   ]
  },
  {
   "cell_type": "code",
   "execution_count": null,
   "id": "5a56b84b",
   "metadata": {},
   "outputs": [],
   "source": [
    "import numpy as np\n",
    "import matplotlib.pyplot as plt\n",
    "\n",
    "def plot_bar_chart():\n",
    "    width = 0.4\n",
    "    plt.bar(np.arange(df.shape[0]), df['age'], width, label='age')\n",
    "    plt.bar(np.arange(df.shape[0]) + width, df['income'], width, label='income')\n",
    "    plt.xticks(np.arange(df.shape[0]) + width / 2, df['name'])\n",
    "    plt.legend(loc='best')\n",
    "    plt.show()\n",
    "\n",
    "plot_bar_chart()\n"
   ]
  },
  {
   "cell_type": "code",
   "execution_count": null,
   "id": "764be324",
   "metadata": {},
   "outputs": [],
   "source": [
    "from sklearn import preprocessing\n",
    "\n",
    "min_max_scaler = preprocessing.MinMaxScaler()\n",
    "scaled_arrays = min_max_scaler.fit_transform(df[['age','income']])\n",
    "\n",
    "df['age'] = scaled_arrays[:,0]\n",
    "df['income'] = scaled_arrays[:,1]\n",
    "\n",
    "plot_bar_chart()\n"
   ]
  },
  {
   "cell_type": "code",
   "execution_count": null,
   "id": "4abcb27d",
   "metadata": {},
   "outputs": [],
   "source": []
  }
 ],
 "metadata": {
  "kernelspec": {
   "display_name": "Python 3 (ipykernel)",
   "language": "python",
   "name": "python3"
  },
  "language_info": {
   "codemirror_mode": {
    "name": "ipython",
    "version": 3
   },
   "file_extension": ".py",
   "mimetype": "text/x-python",
   "name": "python",
   "nbconvert_exporter": "python",
   "pygments_lexer": "ipython3",
   "version": "3.11.4"
  }
 },
 "nbformat": 4,
 "nbformat_minor": 5
}
