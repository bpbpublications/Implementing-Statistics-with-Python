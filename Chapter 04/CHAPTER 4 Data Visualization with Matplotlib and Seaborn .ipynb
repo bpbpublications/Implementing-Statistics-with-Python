{
 "cells": [
  {
   "cell_type": "code",
   "execution_count": null,
   "id": "b827a1cb",
   "metadata": {},
   "outputs": [],
   "source": [
    "!pip install matplotlib"
   ]
  },
  {
   "cell_type": "code",
   "execution_count": null,
   "id": "f8a390a6",
   "metadata": {},
   "outputs": [],
   "source": [
    "import matplotlib.pyplot as plt"
   ]
  },
  {
   "cell_type": "code",
   "execution_count": null,
   "id": "4041db98",
   "metadata": {},
   "outputs": [],
   "source": [
    "import numpy as np\n",
    "# generate x values from 0 to 2π \n",
    "x = np.linspace(0, 2 * np.pi, 100)  # 100 evenly spaced points between 0 and 2π\n"
   ]
  },
  {
   "cell_type": "code",
   "execution_count": null,
   "id": "5d8dab89",
   "metadata": {},
   "outputs": [],
   "source": [
    "# corresponding y values (sine of x)\n",
    "y = np.sin(x)\n"
   ]
  },
  {
   "cell_type": "code",
   "execution_count": null,
   "id": "5055e0f0",
   "metadata": {},
   "outputs": [],
   "source": [
    "# plot the sine wave\n",
    "plt.plot(x, y, label='sin(x)', color='b')\n",
    "\n",
    "# add labels and a legend\n",
    "plt.xlabel('X-axis')\n",
    "plt.ylabel('Y-axis')\n",
    "plt.title('Sine Wave')\n",
    "plt.legend()\n",
    "\n",
    "# display the plot\n",
    "plt.show()\n"
   ]
  },
  {
   "cell_type": "code",
   "execution_count": null,
   "id": "545a5cdb",
   "metadata": {},
   "outputs": [],
   "source": [
    "fig, ax = plt.subplots()"
   ]
  },
  {
   "cell_type": "code",
   "execution_count": null,
   "id": "8a73cc21",
   "metadata": {},
   "outputs": [],
   "source": [
    "# plot the sine wave\n",
    "ax.plot(x, y, label='sin(x)', color='b')\n",
    "\n",
    "# add labels and a legend\n",
    "ax.set_xlabel('X-axis')\n",
    "ax.set_ylabel('Y-axis')\n",
    "ax.set_title('Sine Wave')\n",
    "ax.legend()\n",
    "\n",
    "# display the plot\n",
    "plt.show()\n"
   ]
  },
  {
   "cell_type": "code",
   "execution_count": null,
   "id": "1e19811d",
   "metadata": {},
   "outputs": [],
   "source": [
    "fig, axes = plt.subplots(1,3)"
   ]
  },
  {
   "cell_type": "code",
   "execution_count": null,
   "id": "1328cb86",
   "metadata": {},
   "outputs": [],
   "source": [
    "fig, axes = plt.subplots(2,2)"
   ]
  },
  {
   "cell_type": "code",
   "execution_count": null,
   "id": "8b991809",
   "metadata": {},
   "outputs": [],
   "source": [
    "fig, axes = plt.subplots(1,3)\n",
    "axes[0].plot(x, y, label='sin(x)', color='b')\n",
    "axes[0].set_xlabel('X-axis')\n",
    "axes[0].set_ylabel('Y-axis')\n",
    "axes[0].set_title('Sine Wave')\n",
    "axes[0].legend()\n",
    "plt.show()\n"
   ]
  },
  {
   "cell_type": "code",
   "execution_count": null,
   "id": "f130bfea",
   "metadata": {},
   "outputs": [],
   "source": [
    "fig, axes = plt.subplots(2,2)\n",
    "axes[0,0].plot(x, y, label='sin(x)', color='b')\n",
    "axes[0,0].set_xlabel('X-axis')\n",
    "axes[0,0].set_ylabel('Y-axis')\n",
    "axes[0,0].set_title('Sine Wave')\n",
    "axes[0,0].legend()\n",
    "plt.show()\n"
   ]
  },
  {
   "cell_type": "code",
   "execution_count": null,
   "id": "60374e5a",
   "metadata": {},
   "outputs": [],
   "source": [
    "# create a figure and axis\n",
    "fig, axes = plt.subplots(2,2)\n",
    "\n",
    "# sine\n",
    "axes[0,0].plot(x, y, label='sin(x)', color='b')\n",
    "\n",
    "# cosine\n",
    "axes[0,1].plot(x, np.cos(x), label='cos(x)', color='r')\n",
    "\n",
    "# tangent\n",
    "axes[1,0].plot(x, np.tan(x), label='tan(x)', color='g')\n",
    "\n",
    "# combine two into one\n",
    "axes[1,1].plot(x, y, label='sin(x)', color='b')\n",
    "axes[1,1].plot(x, np.cos(x), label='cos(x)', color='r')\n",
    "\n",
    "# add labels and a legend\n",
    "axes[0,0].set_title('Sine Wave')\n",
    "axes[0,1].set_title('Cosine Wave')\n",
    "axes[1,0].set_title('Tangent Wave')\n",
    "axes[1,1].set_title('Sine and Cosine Waves')\n",
    "\n",
    "axes[0,0].legend()\n",
    "axes[0,1].legend()\n",
    "axes[1,0].legend()\n",
    "\n",
    "fig.suptitle('Sine, Cosine, and Tangent Waves')\n",
    "fig.tight_layout()\n",
    "\n",
    "plt.show()\n"
   ]
  },
  {
   "cell_type": "code",
   "execution_count": null,
   "id": "84337041",
   "metadata": {},
   "outputs": [],
   "source": [
    "fig.set_size_inches(12,6)"
   ]
  },
  {
   "cell_type": "code",
   "execution_count": null,
   "id": "568c9f5e",
   "metadata": {},
   "outputs": [],
   "source": [
    "fig.savefig('SinCosTanPlot.png')"
   ]
  },
  {
   "cell_type": "code",
   "execution_count": null,
   "id": "1d84a4a6",
   "metadata": {},
   "outputs": [],
   "source": [
    "fig.savefig('SinCosTanPlot.png', dpi=80)"
   ]
  },
  {
   "cell_type": "code",
   "execution_count": null,
   "id": "c4736e46",
   "metadata": {},
   "outputs": [],
   "source": [
    "from matplotlib import style\n",
    "style.use(\"ggplot\")         # Grammar of Graphics"
   ]
  },
  {
   "cell_type": "code",
   "execution_count": null,
   "id": "98dcd2d8",
   "metadata": {},
   "outputs": [],
   "source": [
    "style.use('default')"
   ]
  },
  {
   "cell_type": "code",
   "execution_count": null,
   "id": "41269877",
   "metadata": {},
   "outputs": [],
   "source": [
    "print(plt.style.available)"
   ]
  },
  {
   "cell_type": "code",
   "execution_count": null,
   "id": "327b5608",
   "metadata": {},
   "outputs": [],
   "source": [
    "labels      = [\"Toyota\", \"Volkswagen\", \"Ford\", \"Chevrolet\", \"Honda\", \"Others\"]\n",
    "sales       = [25, 18.5, 15.2, 13.8, 11.5, 5.6]\n",
    "colors      = ['yellowgreen', 'gold', 'lightskyblue', \n",
    "               'lightcoral', 'yellow', 'green']\n",
    "explode     = (0.15,0,0,0,0,0)\n"
   ]
  },
  {
   "cell_type": "code",
   "execution_count": null,
   "id": "465a47d3",
   "metadata": {},
   "outputs": [],
   "source": [
    "plt.pie(sales,              # the absolute value of each wedge\n",
    "        explode,            # fraction of the radius with which to offset each \n",
    "                            # wedge\n",
    "        labels,             # the label to display on each wedge\n",
    "        colors,             # the color of each wedge\n",
    "        autopct = \"%.2f%%\", # string or function used to label the wedges with \n",
    "                            # their numeric value \n",
    "        shadow = True,      # display shadow for the pie chart\n",
    "        startangle = 45)    # rotates the start of the pie chart by angle degrees \n",
    "                            # counter-clockwise from the x-axis\n",
    "plt.axis(\"equal\")           # turns off the axis lines and labels\n",
    "plt.title('Market shares of major car brands')\n",
    "plt.show()\n"
   ]
  },
  {
   "cell_type": "code",
   "execution_count": null,
   "id": "7b986b9f",
   "metadata": {},
   "outputs": [],
   "source": [
    "def func(pct, allvals):    \n",
    "    absolute = round(pct/100. * np.sum(allvals), 2)\n",
    "    return f\"{pct:.2f}% \\n ({absolute:.2f} million units)\"\n",
    "\n",
    "plt.pie(sales,\n",
    "        explode,\n",
    "        labels, \n",
    "        colors,\n",
    "        autopct=lambda pct: func(pct, sales), \n",
    "        shadow=True,\n",
    "        startangle=45)\n"
   ]
  },
  {
   "cell_type": "code",
   "execution_count": null,
   "id": "312c726f",
   "metadata": {},
   "outputs": [],
   "source": [
    "import seaborn as sns\n",
    "print(sns.get_dataset_names())\n"
   ]
  },
  {
   "cell_type": "code",
   "execution_count": null,
   "id": "b7adc864",
   "metadata": {},
   "outputs": [],
   "source": [
    "import seaborn as sns\n",
    "sns.load_dataset(\"exercise\")\n"
   ]
  },
  {
   "cell_type": "code",
   "execution_count": null,
   "id": "f0906dfd",
   "metadata": {},
   "outputs": [],
   "source": [
    "mpg = sns.load_dataset('mpg')\n",
    "sns.scatterplot(x = 'displacement', \n",
    "                y = 'horsepower', \n",
    "                data = mpg)\n"
   ]
  },
  {
   "cell_type": "code",
   "execution_count": null,
   "id": "fd2986ec",
   "metadata": {},
   "outputs": [],
   "source": [
    "iris = sns.load_dataset(\"iris\")\n",
    "sns.scatterplot(x = \"sepal_length\", \n",
    "                y = \"sepal_width\", \n",
    "                hue = \"species\",   # use the species column for the colors\n",
    "                data = iris)\n",
    "\n",
    "plt.xlabel(\"Sepal Length (cm)\")\n",
    "plt.ylabel(\"Sepal Width (cm)\")\n",
    "plt.title(\"Iris Dataset - Sepal Length vs. Sepal Width\")\n",
    "plt.legend(title=\"Species\")\n"
   ]
  },
  {
   "cell_type": "code",
   "execution_count": null,
   "id": "0d10f792",
   "metadata": {},
   "outputs": [],
   "source": [
    "exercise = sns.load_dataset(\"exercise\")\n",
    "plt.figure(figsize=(8, 6))   # set size of the figure (width, height) in inches\n",
    "sns.set_style(\"whitegrid\")   # can be white, dark, whitegrid, darkgrid, or ticks\n",
    "sns.lineplot(x = \"time\", \n",
    "             y = \"pulse\", \n",
    "             data = exercise, \n",
    "             hue = \"kind\", \n",
    "             style = \"kind\", \n",
    "             markers = True, \n",
    "             dashes = False)\n",
    "plt.xlabel(\"Time\")\n",
    "plt.ylabel(\"Pulse Rate\")\n",
    "plt.title(\"Line Plot with Seaborn Dataset (exercise)\")\n",
    "plt.legend(title=\"Exercise Kind\")\n"
   ]
  },
  {
   "cell_type": "code",
   "execution_count": null,
   "id": "14089a9a",
   "metadata": {},
   "outputs": [],
   "source": [
    "exercise.query('time == \"1 min\" & kind == \"running\"')['pulse'].mean()  # 96.1\n",
    "exercise.query('time == \"1 min\" & kind == \"walking\"')['pulse'].mean()  # 93.1\n",
    "exercise.query('time == \"1 min\" & kind == \"rest\"')['pulse'].mean()     # 90.2\n"
   ]
  },
  {
   "cell_type": "code",
   "execution_count": null,
   "id": "221ae0b6",
   "metadata": {},
   "outputs": [],
   "source": [
    "flights = sns.load_dataset(\"flights\")\n",
    "plt.figure(figsize=(10, 6))\n",
    "sns.set_style(\"whitegrid\")\n",
    "sns.lineplot(x = \"year\", \n",
    "             y = \"passengers\", \n",
    "             data = flights)\n",
    "plt.xlabel(\"Year\")\n",
    "plt.ylabel(\"Passengers\")\n",
    "plt.title(\"Line Plot with Seaborn Dataset (flights)\")\n"
   ]
  },
  {
   "cell_type": "code",
   "execution_count": null,
   "id": "b74e5784",
   "metadata": {},
   "outputs": [],
   "source": [
    "titanic = sns.load_dataset(\"titanic\")\n",
    "sns.set_style(\"whitegrid\")\n",
    "sns.barplot(x = \"class\", \n",
    "            y = \"survived\", \n",
    "            data = titanic, \n",
    "            estimator = len)\n",
    "plt.xlabel(\"Passenger Class\")\n",
    "plt.ylabel(\"Number of Passengers\")\n",
    "plt.title(\"Bar Plot with Seaborn Dataset (titanic)\")\n"
   ]
  },
  {
   "cell_type": "code",
   "execution_count": null,
   "id": "deaf4a59",
   "metadata": {},
   "outputs": [],
   "source": [
    "tips = sns.load_dataset(\"tips\")\n",
    "sns.set_style(\"whitegrid\")\n",
    "sns.barplot(x = \"day\", \n",
    "            y = \"total_bill\", \n",
    "            data = tips, \n",
    "            errorbar = None)\n",
    "plt.xlabel(\"Day of the Week\")\n",
    "plt.ylabel(\"Average Total Bill\")\n",
    "plt.title(\"Bar Plot with Seaborn Dataset (tips) by Gender\")\n"
   ]
  },
  {
   "cell_type": "code",
   "execution_count": null,
   "id": "e132112c",
   "metadata": {},
   "outputs": [],
   "source": [
    "sns.barplot(x = \"day\", \n",
    "            y = \"total_bill\", \n",
    "            data = tips, \n",
    "            hue = \"sex\", \n",
    "            errorbar = None)\n"
   ]
  },
  {
   "cell_type": "code",
   "execution_count": null,
   "id": "8f86c3ab",
   "metadata": {},
   "outputs": [],
   "source": [
    "sns.barplot(x = 'day', \n",
    "            y = 'tip', \n",
    "            hue = 'sex', \n",
    "            data = tips, \n",
    "            errorbar = 'sd')\n"
   ]
  },
  {
   "cell_type": "code",
   "execution_count": null,
   "id": "175ca7de",
   "metadata": {},
   "outputs": [],
   "source": [
    "flights = sns.load_dataset(\"flights\")\n",
    "flights_pivot = flights.pivot(index = \"month\", \n",
    "              columns = \"year\", \n",
    "              values = \"passengers\")\n",
    "flights_pivot"
   ]
  },
  {
   "cell_type": "code",
   "execution_count": null,
   "id": "95930577",
   "metadata": {},
   "outputs": [],
   "source": [
    "sns.heatmap(flights_pivot, \n",
    "            annot = True,      # write the data values on each cell\n",
    "            fmt = \"d\",         # display in decimal\n",
    "            cmap = \"YlGnBu\")   # color map to use\n",
    "plt.xlabel(\"Year\")\n",
    "plt.ylabel(\"Month\")\n",
    "plt.title(\"Passenger Counts on Flights\")\n"
   ]
  },
  {
   "cell_type": "code",
   "execution_count": null,
   "id": "cccae0e1",
   "metadata": {},
   "outputs": [],
   "source": [
    "tips = sns.load_dataset(\"tips\")\n",
    "sns.pairplot(tips, \n",
    "             hue = \"sex\", \n",
    "             palette = \"husl\", \n",
    "             diag_kind = \"hist\")\n"
   ]
  },
  {
   "cell_type": "code",
   "execution_count": null,
   "id": "08ee3ade",
   "metadata": {},
   "outputs": [],
   "source": [
    "sns.regplot(x = \"total_bill\", \n",
    "            y = \"tip\", \n",
    "            data = tips)\n",
    "plt.title(\"Regression Plot of Total Bill vs. Tip\")\n",
    "plt.xlabel(\"Total Bill\")\n",
    "plt.ylabel(\"Tip\")\n"
   ]
  },
  {
   "cell_type": "code",
   "execution_count": null,
   "id": "45b3b9f1",
   "metadata": {},
   "outputs": [],
   "source": [
    "sns.regplot(x = \"total_bill\", \n",
    "            y = \"tip\", \n",
    "            data = tips, \n",
    "            order = 3)\n"
   ]
  },
  {
   "cell_type": "code",
   "execution_count": null,
   "id": "55ea12e8",
   "metadata": {},
   "outputs": [],
   "source": [
    "mpg = sns.load_dataset(\"mpg\")\n",
    "sns.regplot(x = mpg[\"weight\"], \n",
    "            y = mpg[\"origin\"].eq(\"usa\").rename(\"from_usa\"), \n",
    "            scatter_kws = {\"color\": \"blue\"}, \n",
    "            line_kws = {\"color\": \"red\"},\n",
    "            logistic = True)\n"
   ]
  },
  {
   "cell_type": "code",
   "execution_count": null,
   "id": "0a8e7c87",
   "metadata": {},
   "outputs": [],
   "source": [
    "titanic = sns.load_dataset(\"titanic\")\n",
    "sns.stripplot(x = \"class\", \n",
    "              y = \"age\", \n",
    "              data = titanic, \n",
    "              jitter = True, \n",
    "              hue = \"sex\", \n",
    "              dodge = True)  # avoid overlapping of points for each sex\n",
    "plt.xlabel(\"Class\")\n",
    "plt.ylabel(\"Age\")\n",
    "plt.title(\"Passenger Ages by Class and Gender\")\n"
   ]
  },
  {
   "cell_type": "code",
   "execution_count": null,
   "id": "3cef3ce3",
   "metadata": {},
   "outputs": [],
   "source": []
  }
 ],
 "metadata": {
  "kernelspec": {
   "display_name": "Python 3 (ipykernel)",
   "language": "python",
   "name": "python3"
  },
  "language_info": {
   "codemirror_mode": {
    "name": "ipython",
    "version": 3
   },
   "file_extension": ".py",
   "mimetype": "text/x-python",
   "name": "python",
   "nbconvert_exporter": "python",
   "pygments_lexer": "ipython3",
   "version": "3.11.4"
  }
 },
 "nbformat": 4,
 "nbformat_minor": 5
}
