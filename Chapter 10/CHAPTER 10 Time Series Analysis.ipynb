{
 "cells": [
  {
   "cell_type": "code",
   "execution_count": null,
   "id": "c6a81185",
   "metadata": {},
   "outputs": [],
   "source": [
    "import pandas as pd\n",
    "df = pd.read_csv('AAPL.csv', index_col='Date', parse_dates=True)\n",
    "df.drop(['Open','Low','High','Adj Close','Volume'],axis=1,inplace=True)\n",
    "df"
   ]
  },
  {
   "cell_type": "code",
   "execution_count": null,
   "id": "f4f88762",
   "metadata": {},
   "outputs": [],
   "source": [
    "df = df.loc['2020-03-01':'2020-03-31'].copy()\n",
    "df.head()\n"
   ]
  },
  {
   "cell_type": "code",
   "execution_count": null,
   "id": "e21eb8f9",
   "metadata": {},
   "outputs": [],
   "source": [
    "# calculate Simple Moving Average with a window of 3 days\n",
    "sma_window = 3\n",
    "df['SMA'] = df['Close'].rolling(window = sma_window).mean()\n",
    "df\n"
   ]
  },
  {
   "cell_type": "code",
   "execution_count": null,
   "id": "ab3f36b5",
   "metadata": {},
   "outputs": [],
   "source": [
    "import matplotlib.pyplot as plt\n",
    "\n",
    "# Plot the original data and SMA\n",
    "plt.figure(figsize=(13, 6))\n",
    "plt.plot(df['Close'], label='Original Close')\n",
    "plt.plot(df['SMA'], label=f'SMA ({sma_window}-day)')\n",
    "plt.title('Simple Moving Average for AAPL')\n",
    "plt.xlabel('Date')\n",
    "plt.ylabel('Value')\n",
    "plt.legend()\n",
    "plt.show()\n"
   ]
  },
  {
   "cell_type": "code",
   "execution_count": null,
   "id": "7868575d",
   "metadata": {},
   "outputs": [],
   "source": [
    "alpha = 0.3\n",
    "df['EMA'] = df['Close'].ewm(alpha=alpha, adjust=False).mean()\n",
    "df\n"
   ]
  },
  {
   "cell_type": "code",
   "execution_count": null,
   "id": "1ba650d4",
   "metadata": {},
   "outputs": [],
   "source": [
    "import matplotlib.pyplot as plt\n",
    "\n",
    "# Plot the original data and EMA\n",
    "plt.figure(figsize=(13, 6))\n",
    "plt.plot(df['Close'], label='Original Close')\n",
    "plt.plot(df['EMA'], label=f'EMA ({sma_window}-day)')\n",
    "plt.title('Exponential Moving Average for AAPL')\n",
    "plt.xlabel('Date')\n",
    "plt.ylabel('Value')\n",
    "plt.legend()\n",
    "plt.show()\n"
   ]
  },
  {
   "cell_type": "code",
   "execution_count": null,
   "id": "cb6a75e4",
   "metadata": {},
   "outputs": [],
   "source": [
    "span = 2\n",
    "df['EMA'] = df['Close'].ewm(span=span, adjust=False).mean()\n",
    "df\n"
   ]
  },
  {
   "cell_type": "code",
   "execution_count": null,
   "id": "3d7d6894",
   "metadata": {},
   "outputs": [],
   "source": [
    "df = pd.read_csv('AAPL.csv', index_col='Date', parse_dates=True)\n",
    "df.drop(['Open','Low','High','Adj Close','Volume'],axis=1,inplace=True)\n",
    "df\n"
   ]
  },
  {
   "cell_type": "code",
   "execution_count": null,
   "id": "b1802d18",
   "metadata": {},
   "outputs": [],
   "source": [
    "df[\"Diff\"] = df[\"Close\"].diff()\n",
    "df\n"
   ]
  },
  {
   "cell_type": "code",
   "execution_count": null,
   "id": "da4b0fcb",
   "metadata": {},
   "outputs": [],
   "source": [
    "df = df.assign(Up=df[\"Diff\"].apply(lambda x: x if x>=0 else 0))\n",
    "df = df.assign(Down=df[\"Diff\"].apply(lambda x: abs(x) if x<0 else 0))\n",
    "df\n"
   ]
  },
  {
   "cell_type": "code",
   "execution_count": null,
   "id": "e7683c29",
   "metadata": {},
   "outputs": [],
   "source": [
    "# average for the past 14 days\n",
    "df = df.assign(RollUp=df[\"Up\"].rolling(14).mean())        \n",
    "df = df.assign(RollDown=df[\"Down\"].rolling(14).mean())\n",
    "df\n"
   ]
  },
  {
   "cell_type": "code",
   "execution_count": null,
   "id": "aa186e5f",
   "metadata": {},
   "outputs": [],
   "source": [
    "df = df.assign(RS = df[\"RollUp\"]/df[\"RollDown\"])\n",
    "df = df.assign(RSI = 100 - (100/(1+df[\"RS\"])))\n",
    "df\n"
   ]
  },
  {
   "cell_type": "code",
   "execution_count": null,
   "id": "46dac7ca",
   "metadata": {},
   "outputs": [],
   "source": [
    "import matplotlib.pyplot as plt\n",
    "\n",
    "fig, axes = plt.subplots(2,figsize=(12,10))\n",
    "fig.suptitle('AAPL Price Movements and its RSI')\n",
    "axes[0].plot(df.index, df['Close'])\n",
    "axes[1].plot(df.index, df['RSI'], color='orange')\n",
    "\n",
    "plt.axhline(y=30, color='r', linestyle='--')\n",
    "plt.axhline(y=70, color='b', linestyle='--')\n"
   ]
  },
  {
   "cell_type": "code",
   "execution_count": null,
   "id": "1540bf8e",
   "metadata": {},
   "outputs": [],
   "source": [
    "import pandas as pd\n",
    "def RSI(ohlc, period = 14, method = \"SMA\"):\n",
    "    delta = ohlc[\"Close\"].diff()\n",
    "    up, down = delta.copy(), delta.copy()\n",
    "    up[up < 0] = 0\n",
    "    down[down > 0] = 0\n",
    "       \n",
    "    if method == \"SMA\":\n",
    "        # using Smooth Moving Average\n",
    "        gain = up.rolling(period).mean()\n",
    "        loss = down.abs().rolling(period).mean()\n",
    "    else:\n",
    "        # using Exponential Weighted Moving Average\n",
    "        gain = up.ewm(span=period).mean()\n",
    "        loss = down.abs().ewm(span=period).mean()\n",
    "\n",
    "    RS = gain / loss\n",
    "    ohlc['RSI'] =  pd.Series(100 - (100 / (1 + RS)), name=\"RSI\")\n",
    "    \n",
    "    return ohlc\n"
   ]
  },
  {
   "cell_type": "code",
   "execution_count": null,
   "id": "1d981b0d",
   "metadata": {},
   "outputs": [],
   "source": [
    "import time\n",
    "from datetime import datetime, timedelta\n",
    "import pandas as pd\n",
    "\n",
    "# starts 365 days ago today\n",
    "start_date = datetime.now() - timedelta(days=365)\n",
    "start_date = int(round(start_date.timestamp()))\n",
    "\n",
    "# ends today\n",
    "end_date = datetime.now()\n",
    "end_date = int(round(end_date.timestamp()))\n",
    "\n",
    "# list of stocks\n",
    "stocks = ['AAPL','GOOG','AMZN','NVDA']\n",
    "\n",
    "# create an empty dataframe for storing the stocks\n",
    "df_RSI = pd.DataFrame(columns=stocks)\n",
    "\n",
    "# fetch the price of each stocks\n",
    "for s in stocks:\n",
    "    df = pd.read_csv(f\"https://query1.finance.yahoo.com/v7/finance/download/{s}?period1={start_date}&period2={end_date}&interval=1d&events=history&includeAdjustedClose=true\")  \n",
    "    # get the RSI of each stock\n",
    "    df = RSI(df, method='SMA')\n",
    "    \n",
    "    # add the RSI to the df\n",
    "    df_RSI[s] = df['RSI']\n",
    "    \n",
    "df_RSI.index = df['Date']       \n",
    "display(df_RSI)\n"
   ]
  },
  {
   "cell_type": "code",
   "execution_count": null,
   "id": "35cdfb77",
   "metadata": {},
   "outputs": [],
   "source": [
    "# !pip install plotly\n",
    "# !pip install cufflinks\n"
   ]
  },
  {
   "cell_type": "code",
   "execution_count": null,
   "id": "b9df4b23",
   "metadata": {},
   "outputs": [],
   "source": [
    "from plotly.offline import download_plotlyjs, init_notebook_mode, \\\n",
    "     plot, iplot\n",
    "import cufflinks as cf\n",
    "\n",
    "init_notebook_mode(connected=True)\n",
    "cf.go_offline()  \n",
    "\n",
    "fig = df_RSI.iplot(asFigure=True)  # uses Cufflinks to plot from dataframe\n",
    "fig\n"
   ]
  },
  {
   "cell_type": "code",
   "execution_count": null,
   "id": "e8bac27d",
   "metadata": {},
   "outputs": [],
   "source": [
    "fig.add_shape(dict(\n",
    "    type='line',\n",
    "    y0=30,\n",
    "    y1=30,\n",
    "    x0=df_RSI.index[0],\n",
    "    x1=df_RSI.index[-1],\n",
    "    line=dict(color='red', width=1, dash='dot'),\n",
    "))\n",
    "\n",
    "fig.add_shape(dict(\n",
    "    type='line',\n",
    "    y0=70,\n",
    "    y1=70,\n",
    "    x0=df_RSI.index[0],\n",
    "    x1=df_RSI.index[-1],\n",
    "    line=dict(color='blue', width=1, dash='dot'),\n",
    "))\n"
   ]
  },
  {
   "cell_type": "code",
   "execution_count": null,
   "id": "12e52bea",
   "metadata": {},
   "outputs": [],
   "source": [
    "import pandas as pd\n",
    "df = pd.read_csv(\"AAPL.csv\", index_col=\"Date\", parse_dates=True)\n"
   ]
  },
  {
   "cell_type": "code",
   "execution_count": null,
   "id": "06910fee",
   "metadata": {},
   "outputs": [],
   "source": [
    "import numpy as np\n",
    "np.corrcoef(np.arange(len(df)), \n",
    "            df['Open'])\n"
   ]
  },
  {
   "cell_type": "code",
   "execution_count": null,
   "id": "0d1b0534",
   "metadata": {},
   "outputs": [],
   "source": [
    "np.corrcoef(df['Open'][:-1].values,\n",
    "            df['Open'][1:].values)[0,1]\n"
   ]
  },
  {
   "cell_type": "code",
   "execution_count": null,
   "id": "31d703ab",
   "metadata": {},
   "outputs": [],
   "source": [
    "autocorrelation = []\n",
    "for shift in range(1,25):\n",
    "    correlation = np.corrcoef(df['Open'][:-shift].values,\n",
    "                              df['Open'][shift:].values)[0,1]\n",
    "    autocorrelation.append(correlation)   \n"
   ]
  },
  {
   "cell_type": "code",
   "execution_count": null,
   "id": "268139eb",
   "metadata": {},
   "outputs": [],
   "source": [
    "plt.stem(autocorrelation)"
   ]
  },
  {
   "cell_type": "code",
   "execution_count": null,
   "id": "2884b7cf",
   "metadata": {},
   "outputs": [],
   "source": [
    "# pip install statsmodel\n",
    "from statsmodels.graphics.tsaplots import plot_acf\n",
    "plot_acf(df['Open'])\n"
   ]
  },
  {
   "cell_type": "code",
   "execution_count": null,
   "id": "dfb38ccb",
   "metadata": {},
   "outputs": [],
   "source": [
    "from statsmodels.graphics.tsaplots import plot_pacf\n",
    "plot_pacf(df['Open'])\n"
   ]
  },
  {
   "cell_type": "code",
   "execution_count": null,
   "id": "84753227",
   "metadata": {},
   "outputs": [],
   "source": [
    "df['Diff'] = df['Open'].diff()\n",
    "df\n"
   ]
  },
  {
   "cell_type": "code",
   "execution_count": null,
   "id": "86fb8ef5",
   "metadata": {},
   "outputs": [],
   "source": [
    "df[['Open','Diff']].plot(subplots=True, layout=(2,1))"
   ]
  },
  {
   "cell_type": "code",
   "execution_count": null,
   "id": "64cee91a",
   "metadata": {},
   "outputs": [],
   "source": [
    "from statsmodels.graphics.tsaplots import plot_acf\n",
    "import matplotlib.pyplot as plt\n",
    "\n",
    "fig, (ax1, ax2) = plt.subplots(2)\n",
    "plot_acf(df['Open'], ax=ax1)\n",
    "plot_acf(df['Diff'], ax=ax2)\n"
   ]
  },
  {
   "cell_type": "code",
   "execution_count": null,
   "id": "dc43a2cf",
   "metadata": {},
   "outputs": [],
   "source": [
    "from statsmodels.graphics.tsaplots import plot_pacf\n",
    "_ = plot_pacf(df['Diff'].dropna())\n"
   ]
  },
  {
   "cell_type": "code",
   "execution_count": null,
   "id": "86f97fed",
   "metadata": {},
   "outputs": [],
   "source": [
    "from statsmodels.graphics.tsaplots import plot_pacf\n",
    "_ = plot_acf(df['Diff'].dropna())\n"
   ]
  },
  {
   "cell_type": "code",
   "execution_count": null,
   "id": "15710a1f",
   "metadata": {},
   "outputs": [],
   "source": [
    "!pip install pmdarima"
   ]
  },
  {
   "cell_type": "code",
   "execution_count": null,
   "id": "637b2356",
   "metadata": {},
   "outputs": [],
   "source": [
    "from pmdarima.arima import auto_arima\n",
    "model = auto_arima(df['Open'], \n",
    "                   test='adf',\n",
    "                   seasonal=False,   \n",
    "                   trace=True,\n",
    "                   error_action='ignore',  \n",
    "                   suppress_warnings=True, \n",
    "                   stepwise=True)\n"
   ]
  },
  {
   "cell_type": "code",
   "execution_count": null,
   "id": "db34119f",
   "metadata": {},
   "outputs": [],
   "source": [
    "train_df, test_df = df[0:int(len(df)*0.7)], df[int(len(df)*0.7):]\n",
    "\n",
    "# history price from train set\n",
    "x = [x for x in train_df['Open']]\n",
    "\n",
    "# actual stock price from test set\n",
    "y = test_df['Open']\n"
   ]
  },
  {
   "cell_type": "code",
   "execution_count": null,
   "id": "bbc3541d",
   "metadata": {},
   "outputs": [],
   "source": [
    "from statsmodels.tsa.arima.model import ARIMA\n",
    "# used for storing predicted price for test set\n",
    "predictions = list()\n",
    "\n",
    "# rolling forecasts for the test data\n",
    "for i in range(0, len(y)):\n",
    "    model = ARIMA(x, order=(0,1,0))    \n",
    "    model_fit = model.fit()\n",
    "    \n",
    "    # forecast the next stock price\n",
    "    forecasted_price = model_fit.forecast()[0]\n",
    "\n",
    "    # append predicted price  \n",
    "    predictions.append(forecasted_price)\n",
    "\n",
    "    # get the actual price from test set and add it to x\n",
    "    x.append(y.iloc[i])\n"
   ]
  },
  {
   "cell_type": "code",
   "execution_count": null,
   "id": "c724ccd5",
   "metadata": {},
   "outputs": [],
   "source": [
    "import matplotlib.pyplot as plt\n",
    "plt.figure(figsize=(16,8))\n",
    "\n",
    "# plot the stock price for the train set\n",
    "plt.plot(train_df.index, \n",
    "         train_df['Open'], \n",
    "         color='green', \n",
    "         label = 'Historical AAPL Stock Price')\n",
    "\n",
    "# actual stock price for the test set\n",
    "plt.plot(test_df.index, \n",
    "         y, \n",
    "         color = 'red', \n",
    "         label = 'Actual AAPL Stock Price')\n",
    "\n",
    "# predicted stock price for the test set\n",
    "plt.plot(test_df.index, \n",
    "         predictions, \n",
    "         color = 'blue', \n",
    "         label = 'Predicted AAPL Stock Price')\n",
    "\n",
    "plt.title('Apple Stock Price Prediction')\n",
    "plt.xlabel('Date')\n",
    "plt.ylabel('Price')\n",
    "plt.legend()\n",
    "plt.grid(True)\n",
    "plt.savefig('AAPL_arima_model.pdf')\n",
    "plt.show()\n"
   ]
  },
  {
   "cell_type": "code",
   "execution_count": null,
   "id": "12384c78",
   "metadata": {},
   "outputs": [],
   "source": [
    "model = ARIMA(x, order=(0,1,0))\n",
    "model_fit = model.fit()\n",
    "model_fit.forecast()\n"
   ]
  },
  {
   "cell_type": "code",
   "execution_count": null,
   "id": "f637697b",
   "metadata": {},
   "outputs": [],
   "source": [
    "import pandas as pd\n",
    "import numpy as np\n",
    "date_range = pd.date_range(start = \"2023-06-01\", \n",
    "                           end   = \"2023-06-30 23:59:00\",\n",
    "                           freq  = \"H\")\n"
   ]
  },
  {
   "cell_type": "code",
   "execution_count": null,
   "id": "b4b762fb",
   "metadata": {},
   "outputs": [],
   "source": [
    "ts = pd.Series(list(np.random.randn(len(date_range))),\n",
    "               index = date_range)\n"
   ]
  },
  {
   "cell_type": "code",
   "execution_count": null,
   "id": "e1172bfe",
   "metadata": {},
   "outputs": [],
   "source": [
    "import matplotlib.pyplot as plt\n",
    "import seaborn\n",
    "fig, ax = plt.subplots(figsize=(20,5))\n",
    "seaborn.boxplot(x = ts.index.dayofyear, \n",
    "                y = ts, \n",
    "                ax = ax)\n"
   ]
  },
  {
   "cell_type": "code",
   "execution_count": null,
   "id": "f3e852c7",
   "metadata": {},
   "outputs": [],
   "source": [
    "import matplotlib.pyplot as plt\n",
    "import seaborn\n",
    "fig, ax = plt.subplots(figsize=(20,5))\n",
    "seaborn.boxplot(x = ts.index.dayofyear, \n",
    "                y = ts, \n",
    "                ax = ax,\n",
    "                hue = ts.index.dayofyear,\n",
    "                palette = 'Spectral',\n",
    "                legend = False)\n"
   ]
  },
  {
   "cell_type": "code",
   "execution_count": null,
   "id": "e70dc0ec",
   "metadata": {},
   "outputs": [],
   "source": [
    "import pandas as pd\n",
    "import numpy as np\n",
    "import matplotlib.pyplot as plt\n",
    "import seaborn\n",
    "date_range = pd.date_range(start = \"2023-06-01\", \n",
    "                           end   = \"2023-06-30 23:59:00\",\n",
    "                           freq  = \"H\")\n",
    "df = pd.DataFrame(\n",
    "    {\n",
    "        'temp':np.random.randn(len(date_range))\n",
    "    }, index = date_range)\n",
    "df\n"
   ]
  },
  {
   "cell_type": "code",
   "execution_count": null,
   "id": "1dae8720",
   "metadata": {},
   "outputs": [],
   "source": [
    "fig, ax = plt.subplots(figsize=(20,5))\n",
    "seaborn.boxplot(x = df.index.dayofyear, \n",
    "                y = df['temp'], \n",
    "                ax = ax,\n",
    "                hue = ts.index.dayofyear,\n",
    "                palette = 'Spectral',\n",
    "                legend = False)\n"
   ]
  },
  {
   "cell_type": "code",
   "execution_count": null,
   "id": "d8d94aee",
   "metadata": {},
   "outputs": [],
   "source": [
    "df = pd.read_csv('WetBulbTemperatureHourly.csv', \n",
    "                 parse_dates = ['wbt_date'], \n",
    "                 index_col='wbt_date')\n",
    "df\n"
   ]
  },
  {
   "cell_type": "code",
   "execution_count": null,
   "id": "b079477a",
   "metadata": {},
   "outputs": [],
   "source": [
    "fig, ax = plt.subplots(figsize=(12,5))\n",
    "seaborn.boxplot(x = df.index.month,\n",
    "                y = df['wet_bulb_temperature'], \n",
    "                ax = ax,\n",
    "                hue = df.index.month,\n",
    "                palette = 'Spectral',\n",
    "                legend = False)\n"
   ]
  },
  {
   "cell_type": "code",
   "execution_count": null,
   "id": "c4b8f13c",
   "metadata": {},
   "outputs": [],
   "source": [
    "fig, ax = plt.subplots(figsize=(24,10))\n",
    "seaborn.boxplot(x = df.index.year,\n",
    "                y = df['wet_bulb_temperature'], \n",
    "                ax = ax,\n",
    "                hue = df.index.year,\n",
    "                palette = 'Spectral',\n",
    "                legend = False)\n"
   ]
  },
  {
   "cell_type": "code",
   "execution_count": null,
   "id": "126f85d4",
   "metadata": {},
   "outputs": [],
   "source": [
    "fig, ax = plt.subplots(figsize=(24,10))\n",
    "seaborn.boxplot(x = df.index.year,\n",
    "                y = df['wet_bulb_temperature'], \n",
    "                ax = ax,\n",
    "                hue = df.index.year,\n",
    "                palette = 'Spectral',\n",
    "                legend = False)\n",
    "ax.set_xticks(ax.get_xticks())\n",
    "_ = ax.set_xticklabels(ax.get_xticklabels(), rotation=30)\n"
   ]
  },
  {
   "cell_type": "code",
   "execution_count": null,
   "id": "d7608f97",
   "metadata": {},
   "outputs": [],
   "source": [
    "fig, ax = plt.subplots(figsize=(24,10))\n",
    "seaborn.boxplot(\n",
    "    x = df['1998-01-01':'1998-12-31'].index.month,\n",
    "    y = df['1998-01-01':'1998-12-31']['wet_bulb_temperature'], \n",
    "    ax = ax,\n",
    "    hue = df['1998-01-01':'1998-12-31'].index.month,\n",
    "    palette = 'Spectral',\n",
    "    legend = False)\n"
   ]
  },
  {
   "cell_type": "code",
   "execution_count": null,
   "id": "b3254134",
   "metadata": {},
   "outputs": [],
   "source": [
    "fig, ax = plt.subplots(figsize=(24,10))\n",
    "\n",
    "seaborn.boxplot(\n",
    "    x = df['1998-05-01':'1998-05-31'].index.day,\n",
    "    y = df['1998-05-01':'1998-05-31']['wet_bulb_temperature'], \n",
    "    ax = ax,\n",
    "    hue = df['1998-05-01':'1998-05-31'].index.day,\n",
    "    palette = 'Spectral',\n",
    "    legend = False)\n"
   ]
  },
  {
   "cell_type": "code",
   "execution_count": null,
   "id": "e4d84594",
   "metadata": {},
   "outputs": [],
   "source": [
    "fig, ax = plt.subplots(figsize=(150,10))\n",
    "seaborn.boxplot(\n",
    "    x = df['1998-01-01':'1998-12-31'].index.dayofyear,\n",
    "    y = df['1998-01-01':'1998-12-31']['wet_bulb_temperature'], \n",
    "    ax = ax,\n",
    "    hue = df['1998-01-01':'1998-12-31'].index.dayofyear,\n",
    "    palette = 'Spectral',\n",
    "    legend = False)\n",
    "fig.savefig('temp.jpg')\n"
   ]
  },
  {
   "cell_type": "code",
   "execution_count": null,
   "id": "3265aeab",
   "metadata": {
    "scrolled": true
   },
   "outputs": [],
   "source": [
    "fig, ax = plt.subplots(figsize=(150,10))\n",
    "seaborn.boxplot(\n",
    "    x = df['1998-01-01':'1998-12-31'].index.dayofyear,\n",
    "    y = df['1998-01-01':'1998-12-31']['wet_bulb_temperature'], \n",
    "    ax = ax,\n",
    "    hue = df['1998-01-01':'1998-12-31'].index.dayofyear,\n",
    "    palette = 'Spectral',\n",
    "    legend = False)\n",
    "\n",
    "ax.set_xticks(ax.get_xticks())\n",
    "ax.set_xticklabels(labels = \n",
    "    df['1998-01-01':'1998-12-31'].index.strftime(\n",
    "        '%Y-%m-%d').sort_values().unique(), \n",
    "    rotation=45, ha='right')\n",
    "\n",
    "fig.savefig('temp.jpg')\n"
   ]
  },
  {
   "cell_type": "code",
   "execution_count": null,
   "id": "7d060c6c",
   "metadata": {},
   "outputs": [],
   "source": []
  }
 ],
 "metadata": {
  "kernelspec": {
   "display_name": "Python 3 (ipykernel)",
   "language": "python",
   "name": "python3"
  },
  "language_info": {
   "codemirror_mode": {
    "name": "ipython",
    "version": 3
   },
   "file_extension": ".py",
   "mimetype": "text/x-python",
   "name": "python",
   "nbconvert_exporter": "python",
   "pygments_lexer": "ipython3",
   "version": "3.11.4"
  }
 },
 "nbformat": 4,
 "nbformat_minor": 5
}
