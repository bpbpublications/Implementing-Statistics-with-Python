{
 "cells": [
  {
   "cell_type": "code",
   "execution_count": null,
   "id": "6f381dfb",
   "metadata": {},
   "outputs": [],
   "source": [
    "import pandas as pd\n",
    "import random\n",
    "\n",
    "# sample data with random values\n",
    "smoking_habits = ['Non-smoker', 'Occasional smoker', \n",
    "                  'Regular smoker', 'Heavy smoker']\n",
    "exercise_freq = ['Low', 'Moderate', 'High']\n",
    "\n",
    "survey_data = {\n",
    "    'participant': range(1, 301),\n",
    "    'smoking_habit': [random.choice(smoking_habits) for _ in range(300)],\n",
    "    'exercise_frequency': [random.choice(exercise_freq) for _ in range(300)]\n",
    "}\n",
    "\n",
    "# convert data to a pandas DataFrame\n",
    "df = pd.DataFrame(survey_data)\n",
    "df\n"
   ]
  },
  {
   "cell_type": "code",
   "execution_count": null,
   "id": "23ec68c3",
   "metadata": {},
   "outputs": [],
   "source": [
    "# create the contingency table using crosstab\n",
    "contingency_table = pd.crosstab(df['smoking_habit'], df['exercise_frequency'])\n",
    "\n",
    "# print the contingency table\n",
    "print(\"Contingency Table:\")\n",
    "display(contingency_table)\n"
   ]
  },
  {
   "cell_type": "code",
   "execution_count": null,
   "id": "91d3ebd2",
   "metadata": {},
   "outputs": [],
   "source": [
    "import numpy as np\n",
    "from scipy.stats import chi2_contingency\n",
    "\n",
    "# perform chi-square test\n",
    "chi2, p, dof, expected = chi2_contingency(contingency_table)\n",
    "\n",
    "# print the results\n",
    "print(f\"Chi-square statistic: {chi2}\")\n",
    "print(f\"P-value: {p}\")\n",
    "print(f\"Degrees of freedom: {dof}\")\n"
   ]
  },
  {
   "cell_type": "code",
   "execution_count": null,
   "id": "35122236",
   "metadata": {},
   "outputs": [],
   "source": [
    "import numpy as np\n",
    "from scipy.stats import f_oneway\n",
    "import pandas as pd\n",
    "\n",
    "# sample data representing employee satisfaction scores\n",
    "data = {\n",
    "    'EmployeeID': range(1, 101),\n",
    "    'Department': np.random.choice(['Sales', 'Marketing', 'Finance', 'IT'],\n",
    "                      size=100),\n",
    "    'SatisfactionScore': np.random.randint(1, 11, size=100)  \n",
    "    # random satisfaction scores from 1 to 10\n",
    "}\n",
    "\n",
    "# convert data to a pandas DataFrame\n",
    "df = pd.DataFrame(data)\n",
    "display(df)\n"
   ]
  },
  {
   "cell_type": "code",
   "execution_count": null,
   "id": "4fba9272",
   "metadata": {},
   "outputs": [],
   "source": [
    "from scipy.stats import f_oneway\n",
    "\n",
    "# perform one-way ANOVA\n",
    "f_statistic, p_value = f_oneway(*[df[df['Department'] == dept]\n",
    "    ['SatisfactionScore'] for dept in df['Department'].unique()])\n",
    "\n",
    "# print the results\n",
    "print(f\"One-way ANOVA F-statistic: {f_statistic}\")\n",
    "print(f\"p-value: {p_value}\")\n"
   ]
  },
  {
   "cell_type": "code",
   "execution_count": null,
   "id": "0d3ad80a",
   "metadata": {},
   "outputs": [],
   "source": []
  }
 ],
 "metadata": {
  "kernelspec": {
   "display_name": "Python 3 (ipykernel)",
   "language": "python",
   "name": "python3"
  },
  "language_info": {
   "codemirror_mode": {
    "name": "ipython",
    "version": 3
   },
   "file_extension": ".py",
   "mimetype": "text/x-python",
   "name": "python",
   "nbconvert_exporter": "python",
   "pygments_lexer": "ipython3",
   "version": "3.11.4"
  }
 },
 "nbformat": 4,
 "nbformat_minor": 5
}
