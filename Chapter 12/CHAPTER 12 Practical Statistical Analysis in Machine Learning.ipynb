{
 "cells": [
  {
   "cell_type": "code",
   "execution_count": null,
   "id": "d9096471",
   "metadata": {},
   "outputs": [],
   "source": [
    "import pandas as pd\n",
    "df = pd.read_csv(\"titanic_train.csv\")       \n",
    "df\n"
   ]
  },
  {
   "cell_type": "code",
   "execution_count": null,
   "id": "5b4999de",
   "metadata": {},
   "outputs": [],
   "source": [
    "# drop the columns that are outright not useful\n",
    "df.drop(labels = ['PassengerId',\n",
    "        'Name',\n",
    "        'Ticket',\n",
    "        'Fare',\n",
    "        'Cabin'], \n",
    "        axis = 1, \n",
    "        inplace = True)\n",
    "\n",
    "# check to see if the columns are removed\n",
    "df\n"
   ]
  },
  {
   "cell_type": "code",
   "execution_count": null,
   "id": "b464d4e6",
   "metadata": {},
   "outputs": [],
   "source": [
    "df.isna().sum()"
   ]
  },
  {
   "cell_type": "code",
   "execution_count": null,
   "id": "4a7c4b48",
   "metadata": {},
   "outputs": [],
   "source": [
    "df.dropna(inplace=True)                   # drop all rows with NaN\n",
    "df.reset_index(inplace=True, drop=True)   # re-index the dataframe\n",
    "df\n"
   ]
  },
  {
   "cell_type": "code",
   "execution_count": null,
   "id": "2908fde2",
   "metadata": {},
   "outputs": [],
   "source": [
    "from sklearn import preprocessing\n",
    "\n",
    "# initialize label encoder\n",
    "label_encoder = preprocessing.LabelEncoder()\n",
    "\n",
    "# convert Sex and Embarked features to numeric\n",
    "df[\"Sex\"] = label_encoder.fit_transform(df[\"Sex\"])\n",
    "# 0 = female\n",
    "# 1 = male\n",
    "\n",
    "df[\"Embarked\"] = label_encoder.fit_transform(df[\"Embarked\"])\n",
    "# 0 = C\n",
    "# 1 = Q\n",
    "# 2 = S\n",
    "\n",
    "df\n"
   ]
  },
  {
   "cell_type": "code",
   "execution_count": null,
   "id": "d61267f1",
   "metadata": {},
   "outputs": [],
   "source": [
    "df['Alone'] = [1 if size==0 else 0 for size in (df['Parch'] + df['SibSp'])]\n",
    "df\n"
   ]
  },
  {
   "cell_type": "code",
   "execution_count": null,
   "id": "dce0c621",
   "metadata": {},
   "outputs": [],
   "source": [
    "# drop the columns that are not useful to us\n",
    "df.drop(columns=['SibSp','Parch'], inplace=True)\n",
    "\n",
    "# check to see if the colummns are removed\n",
    "df\n"
   ]
  },
  {
   "cell_type": "code",
   "execution_count": null,
   "id": "25c3d04c",
   "metadata": {},
   "outputs": [],
   "source": [
    "from scipy.stats import chi2_contingency\n",
    "\n",
    "results = []\n",
    "for column in ['Pclass','Sex','Embarked','Alone']:\n",
    "    # create a contingency table\n",
    "    contingency_table = pd.crosstab(df[column], df['Survived'])\n",
    "\n",
    "    # perform chi-square test\n",
    "    chi2, p, _, _ = chi2_contingency(contingency_table)\n",
    "    results.append([column,chi2,p])\n",
    "    \n",
    "pd.DataFrame(results, columns = ['column','chi2','p'])\n"
   ]
  },
  {
   "cell_type": "code",
   "execution_count": null,
   "id": "28af9066",
   "metadata": {},
   "outputs": [],
   "source": [
    "df[['Age','Survived']].corr(\n",
    "    method='pearson')['Survived'].abs().sort_values(ascending=False)\n"
   ]
  },
  {
   "cell_type": "code",
   "execution_count": null,
   "id": "b56d7ef5",
   "metadata": {},
   "outputs": [],
   "source": [
    "# make fields categorical\n",
    "df[\"Sex\"]      = pd.Categorical(df[\"Sex\"])\n",
    "df[\"Embarked\"] = pd.Categorical(df[\"Embarked\"])\n",
    "df[\"Survived\"] = pd.Categorical(df[\"Survived\"])\n",
    "df[\"Pclass\"]   = pd.Categorical(df[\"Pclass\"])\n",
    "df[\"Alone\"]    = pd.Categorical(df[\"Alone\"])\n",
    "\n",
    "print(df.dtypes)     # examine the datatypes for each feature\n"
   ]
  },
  {
   "cell_type": "code",
   "execution_count": null,
   "id": "e5dcd752",
   "metadata": {},
   "outputs": [],
   "source": [
    "from sklearn.model_selection import train_test_split\n",
    "X_train, X_test, y_train, y_test = train_test_split(\n",
    "    df.iloc[:,1:],             # features (all except Survived)\n",
    "    df.iloc[:,0],              # label (Survived)     \n",
    "    test_size = 0.20,          # split ratio\n",
    "    random_state = 1,          # set random seed\n",
    "    stratify = df.iloc[:,0])   # randomize based on labels\n"
   ]
  },
  {
   "cell_type": "code",
   "execution_count": null,
   "id": "8c4e1a07",
   "metadata": {},
   "outputs": [],
   "source": [
    "from sklearn import linear_model\n",
    "\n",
    "# initialize logistic regression model\n",
    "log_regress = linear_model.LogisticRegression()\n",
    "\n",
    "# train the model\n",
    "log_regress.fit(X = X_train,\n",
    "                y = y_train)\n"
   ]
  },
  {
   "cell_type": "code",
   "execution_count": null,
   "id": "bbc7fec9",
   "metadata": {},
   "outputs": [],
   "source": [
    "from sklearn import metrics\n",
    "y_pred = log_regress.predict(X_test)\n",
    "print(\"Accuracy:\", metrics.accuracy_score(y_test, y_pred))\n"
   ]
  },
  {
   "cell_type": "code",
   "execution_count": null,
   "id": "4dc744af",
   "metadata": {},
   "outputs": [],
   "source": [
    "from sklearn.model_selection import GridSearchCV\n",
    "import numpy as np\n",
    "import warnings\n",
    "\n",
    "warnings.filterwarnings('ignore')\n",
    "\n",
    "# parameter grid\n",
    "parameters = {\n",
    "    'penalty' : ['l1','l2'], \n",
    "    'C'       : np.logspace(-3,3,7),\n",
    "    'solver'  : ['newton-cg', 'lbfgs', 'liblinear'],\n",
    "}\n"
   ]
  },
  {
   "cell_type": "code",
   "execution_count": null,
   "id": "1c883be2",
   "metadata": {},
   "outputs": [],
   "source": [
    "from sklearn.linear_model import LogisticRegression\n",
    "\n",
    "logreg = LogisticRegression()\n",
    "clf = GridSearchCV(logreg,                      # model\n",
    "                   param_grid = parameters,     # hyperparameters\n",
    "                   scoring = 'accuracy',        # metric for scoring\n",
    "                   cv = 10)                     # number of folds\n"
   ]
  },
  {
   "cell_type": "code",
   "execution_count": null,
   "id": "a2d08949",
   "metadata": {},
   "outputs": [],
   "source": [
    "clf.fit(X_train,y_train)"
   ]
  },
  {
   "cell_type": "code",
   "execution_count": null,
   "id": "bfc7924f",
   "metadata": {},
   "outputs": [],
   "source": [
    "print(\"Tuned Hyperparameters :\", clf.best_params_)\n",
    "print(\"Accuracy of training set:\", clf.best_score_)\n",
    "print(\"Accuracy of testing set:\", clf.score(X_test, y_test))\n"
   ]
  },
  {
   "cell_type": "code",
   "execution_count": null,
   "id": "5f1ba67e",
   "metadata": {},
   "outputs": [],
   "source": [
    "from sklearn.model_selection import GridSearchCV\n",
    "from sklearn.linear_model import LogisticRegression\n",
    "from sklearn.svm import SVC\n",
    "from sklearn.neighbors import KNeighborsClassifier\n",
    "from sklearn.ensemble import RandomForestClassifier\n",
    "from sklearn.ensemble import GradientBoostingClassifier\n",
    "from sklearn.naive_bayes import GaussianNB\n",
    "from sklearn.tree import DecisionTreeClassifier\n",
    "\n",
    "# define a dictionary of classifiers and their corresponding parameter grids\n",
    "classifiers = {\n",
    "    'LogisticRegression': (\n",
    "        LogisticRegression(), \n",
    "        {\n",
    "            'penalty' : ['l1','l2'], \n",
    "            'C'       : np.logspace(-3,3,7),\n",
    "            'solver'  : ['newton-cg', 'lbfgs', 'liblinear'],\n",
    "        }\n",
    "    ),    \n",
    "    'SVM': (\n",
    "        SVC(), \n",
    "        {\n",
    "            'kernel' : ('linear', 'rbf'), \n",
    "            'C':[1, 10]\n",
    "        }\n",
    "    ),    \n",
    "    'KNeighbors': (\n",
    "        KNeighborsClassifier(), {\n",
    "            'n_neighbors': [3, 5, 7], \n",
    "            'weights' : ['uniform', 'distance']\n",
    "        }\n",
    "    ),    \n",
    "    'RandomForest': (\n",
    "        RandomForestClassifier(), {\n",
    "            'n_estimators': [10, 50, 100]\n",
    "        }\n",
    "    ),    \n",
    "    'GradientBoosting': (\n",
    "        GradientBoostingClassifier(), {\n",
    "            'learning_rate': [0.1, 0.05, 0.01], \n",
    "            'n_estimators': [100, 200, 300]\n",
    "        }\n",
    "    ), \n",
    "    'NaiveBayes': (\n",
    "        GaussianNB(), {}\n",
    "    ),\n",
    "    'DecisionTreeClassifier':(\n",
    "        DecisionTreeClassifier(),\n",
    "        {\n",
    "            'criterion': ['gini', 'entropy'], \n",
    "            'max_depth': [2, 3, 4, 5]\n",
    "        }\n",
    "    )\n",
    "}\n"
   ]
  },
  {
   "cell_type": "code",
   "execution_count": null,
   "id": "e5c02e52",
   "metadata": {},
   "outputs": [],
   "source": [
    "results = []\n",
    "\n",
    "# evaluate each classifier using GridSearchCV\n",
    "for clf_name, (clf, param_grid) in classifiers.items():\n",
    "    grid_search = GridSearchCV(clf, param_grid, cv = 5)\n",
    "    grid_search.fit(X_train, y_train)    \n",
    "    training_accuracy = grid_search.best_score_    \n",
    "    testing_accuracy = grid_search.score(X_test, y_test)    \n",
    "    results.append([clf_name,training_accuracy,testing_accuracy, param_grid])\n",
    "   \n",
    "df_result = pd.DataFrame(results, columns = [\"Algorithm\",\n",
    "                                             \"Training Set Accuracy\",\n",
    "                                             \"Testing Set Accuracy\",\n",
    "                                             \"Parameters\"])\n",
    "display(df_result)\n"
   ]
  },
  {
   "cell_type": "code",
   "execution_count": null,
   "id": "2f3877ac",
   "metadata": {},
   "outputs": [],
   "source": [
    "df_result.sort_values(by='Testing Set Accuracy', ascending = False)"
   ]
  },
  {
   "cell_type": "code",
   "execution_count": null,
   "id": "8a7cc3e6",
   "metadata": {},
   "outputs": [],
   "source": [
    "X = df.iloc[:,1:]   # features (all except Survived)\n",
    "y = df.iloc[:,0]    # Survived\n",
    "log_regress = linear_model.LogisticRegression(C = 0.1,\n",
    "                                              penalty = 'l2',\n",
    "                                              solver= 'newton-cg')\n",
    "log_regress.fit(X,y)\n"
   ]
  },
  {
   "cell_type": "code",
   "execution_count": null,
   "id": "67269b6d",
   "metadata": {},
   "outputs": [],
   "source": [
    "from sklearn.model_selection import cross_val_score\n",
    "\n",
    "# use cross-validation to score the model\n",
    "cross_val_score(log_regress, X, y, cv = 10).mean()\n"
   ]
  },
  {
   "cell_type": "code",
   "execution_count": null,
   "id": "dd843e9b",
   "metadata": {},
   "outputs": [],
   "source": [
    "!pip install gradio"
   ]
  },
  {
   "cell_type": "code",
   "execution_count": null,
   "id": "9e31a159",
   "metadata": {},
   "outputs": [],
   "source": [
    "def make_prediction(pclass,sex,age,embarked,alone):\n",
    "    return 'Alive' if log_regress.predict([\n",
    "        [int(pclass),int(sex),float(age),int(embarked),int(alone)]])[0] \\\n",
    "        else 'Dead'\n"
   ]
  },
  {
   "cell_type": "code",
   "execution_count": null,
   "id": "ea5546e0",
   "metadata": {},
   "outputs": [],
   "source": [
    "import gradio as gr\n",
    "pclass = gr.Radio([1,2,3], \n",
    "                  type = \"value\", \n",
    "                  label = \"Passenger Class\", \n",
    "                  value = 1)\n",
    "sex = gr.Radio(['Female','Male'], \n",
    "               type = \"index\", \n",
    "               label = \"Sex\", \n",
    "               value = \"Female\")      # 0 = female, 1 = male\n",
    "age = gr.Slider(1,100, \n",
    "                label = \"Age\",\n",
    "                value = 20)\n",
    "embarked = gr.Radio(['Cherbourg','Queenstown','Southampton'], \n",
    "                    type = \"index\", \n",
    "                    label = \"Embarked\", \n",
    "                    value = \"Cherbourg\") # 0 = C, 1 = Q, 2 = S\n",
    "alone = gr.Radio(['No','Yes'], \n",
    "                 type = \"index\", \n",
    "                 label = \"Alone\", value = \"No\") # 0 – no, 1 - yes\n"
   ]
  },
  {
   "cell_type": "code",
   "execution_count": null,
   "id": "b6678bc9",
   "metadata": {},
   "outputs": [],
   "source": [
    "app =  gr.Interface(\n",
    "    fn = make_prediction,                         # the function to bind to\n",
    "    title = 'Prediction',                         # title of the interface\n",
    "    inputs = [pclass, sex, age, embarked, alone], # type of input(s)\n",
    "    outputs = 'text')                             # type of output(s)\n",
    "app.launch()\n"
   ]
  },
  {
   "cell_type": "code",
   "execution_count": null,
   "id": "7f141ea0",
   "metadata": {},
   "outputs": [],
   "source": []
  }
 ],
 "metadata": {
  "kernelspec": {
   "display_name": "Python 3 (ipykernel)",
   "language": "python",
   "name": "python3"
  },
  "language_info": {
   "codemirror_mode": {
    "name": "ipython",
    "version": 3
   },
   "file_extension": ".py",
   "mimetype": "text/x-python",
   "name": "python",
   "nbconvert_exporter": "python",
   "pygments_lexer": "ipython3",
   "version": "3.11.4"
  }
 },
 "nbformat": 4,
 "nbformat_minor": 5
}
