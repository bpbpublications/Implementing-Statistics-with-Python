{
 "cells": [
  {
   "cell_type": "code",
   "execution_count": null,
   "id": "b58bcd8f",
   "metadata": {},
   "outputs": [],
   "source": [
    "my_name = \"Wei-Meng Lee\"     # a string variable\n",
    "id = 123                     # an integer variable\n",
    "score = 89.5                 # a float variable\n",
    "exited = False               # a Boolean variable\n"
   ]
  },
  {
   "cell_type": "code",
   "execution_count": null,
   "id": "c8b8f118",
   "metadata": {},
   "outputs": [],
   "source": [
    "exited = False               # a Boolean variable\n",
    "exited = 1.0                 # now a float variable\n"
   ]
  },
  {
   "cell_type": "code",
   "execution_count": null,
   "id": "6d8b4b02",
   "metadata": {},
   "outputs": [],
   "source": [
    "PI = 3.14159\n",
    "COMPANY_NAME = \"XYZ Company\"\n"
   ]
  },
  {
   "cell_type": "code",
   "execution_count": null,
   "id": "baea081d",
   "metadata": {},
   "outputs": [],
   "source": [
    "s1 = \"Implementing Statistics with Python\"\n",
    "s2 = 'Implementing Statistics with Python'\n"
   ]
  },
  {
   "cell_type": "code",
   "execution_count": null,
   "id": "700ca1e8",
   "metadata": {},
   "outputs": [],
   "source": [
    "poem = \"\"\"\n",
    "Hope is the thing with feathers\n",
    "That perches in the soul,\n",
    "And sings the tune without the words,\n",
    "And never stops at all.\n",
    "\"\"\"\n"
   ]
  },
  {
   "cell_type": "code",
   "execution_count": null,
   "id": "b292a8f3",
   "metadata": {},
   "outputs": [],
   "source": [
    "city = 'Oslo'\n",
    "temp = 0.5\n",
    "print('The current temperature in ' + city + ' is ' + str(temp) + ' degrees Celsius')\n",
    "# The current temperature in Oslo is 0.5 degrees Celsius\n"
   ]
  },
  {
   "cell_type": "code",
   "execution_count": null,
   "id": "f3cb0a7c",
   "metadata": {},
   "outputs": [],
   "source": [
    "print(f'The current temperature in {city} is {temp} degrees Celsius')"
   ]
  },
  {
   "cell_type": "code",
   "execution_count": null,
   "id": "edbaa0d9",
   "metadata": {},
   "outputs": [],
   "source": [
    "s1 = \"Implementing Statistics with Python\"\n",
    "s1[0] # I\n",
    "s1[1] # m\n",
    "s1[2] # p\n"
   ]
  },
  {
   "cell_type": "code",
   "execution_count": null,
   "id": "826e798c",
   "metadata": {},
   "outputs": [],
   "source": [
    "s2 = 'Implementing Statistics with Python'\n",
    "s3 = s2.replace('Python','R')\n",
    "print(s2)  # Implementing Statistics with Python\n",
    "print(s3)  # Implementing Statistics with R\n"
   ]
  },
  {
   "cell_type": "code",
   "execution_count": null,
   "id": "297440d3",
   "metadata": {},
   "outputs": [],
   "source": [
    "score = float(input(\"Enter your score: \"))\n",
    "if score >= 50:\n",
    "    print('Passed!')\n",
    "else:\n",
    "    print('Failed!')\n"
   ]
  },
  {
   "cell_type": "code",
   "execution_count": null,
   "id": "815c3862",
   "metadata": {},
   "outputs": [],
   "source": [
    "score = float(input(\"Enter your score: \"))\n",
    "if 80 <= score <= 100:\n",
    "    grade = 'A'\n",
    "elif 70 <= score < 80:\n",
    "    grade = 'B'\n",
    "elif 60 <= score < 70:\n",
    "    grade = 'C'\n",
    "elif 50 <= score < 60:\n",
    "    grade = 'D'\n",
    "else:\n",
    "    grade = 'F'\n"
   ]
  },
  {
   "cell_type": "code",
   "execution_count": null,
   "id": "5e094812",
   "metadata": {},
   "outputs": [],
   "source": [
    "score = float(input(\"Enter your score: \"))\n",
    "match score:\n",
    "    case score if 80 <= score <= 100:\n",
    "        grade = 'A'\n",
    "    case score if 70 <= score < 80:\n",
    "        grade = 'B'\n",
    "    case score if 60 <= score < 70:\n",
    "        grade = 'C'\n",
    "    case score if 50 <= score < 60:\n",
    "        grade = 'D'\n",
    "    case _:\n",
    "        grade = 'F'\n"
   ]
  },
  {
   "cell_type": "code",
   "execution_count": null,
   "id": "4750966d",
   "metadata": {},
   "outputs": [],
   "source": [
    "for c in 'statistics':\n",
    "    print(c)\n"
   ]
  },
  {
   "cell_type": "code",
   "execution_count": null,
   "id": "b403c9e6",
   "metadata": {},
   "outputs": [],
   "source": [
    "counter = total = 0\n",
    "while counter < 5:\n",
    "    counter += 1\n",
    "    total += counter\n",
    "print(total)  # 15\n"
   ]
  },
  {
   "cell_type": "code",
   "execution_count": null,
   "id": "f2e52b57",
   "metadata": {},
   "outputs": [],
   "source": [
    "counter = 0\n",
    "total = 0\n",
    "while counter < 5:\n",
    "    counter += 1\n",
    "    if counter == 2:\n",
    "        continue   # skip the rest of the loop and go to \n",
    "                   # the next iteration of the loop\n",
    "    total += counter\n",
    "print(total)   # 13\n"
   ]
  },
  {
   "cell_type": "code",
   "execution_count": null,
   "id": "61af76d0",
   "metadata": {},
   "outputs": [],
   "source": [
    "counter = 0\n",
    "total = 0\n",
    "while counter < 5:\n",
    "    counter += 1\n",
    "    if counter == 3:\n",
    "        break   # exit the loop\n",
    "    total += counter\n",
    "print(total)   # 3\n"
   ]
  },
  {
   "cell_type": "code",
   "execution_count": null,
   "id": "1e412c9f",
   "metadata": {},
   "outputs": [],
   "source": [
    "for c in 'statistics':\n",
    "    print(c)\n",
    "else:\n",
    "    print('All characters printed')\n"
   ]
  },
  {
   "cell_type": "code",
   "execution_count": null,
   "id": "0d228049",
   "metadata": {},
   "outputs": [],
   "source": [
    "counter = 0\n",
    "total = 0\n",
    "while counter < 5:\n",
    "    counter += 1    \n",
    "    total += counter\n",
    "else:\n",
    "    print(total)   # 15\n"
   ]
  },
  {
   "cell_type": "code",
   "execution_count": null,
   "id": "060b9b3f",
   "metadata": {},
   "outputs": [],
   "source": [
    "def print_something():\n",
    "    print('This is a function...')\n",
    "    print('...in Python')\n"
   ]
  },
  {
   "cell_type": "code",
   "execution_count": null,
   "id": "977fe3d5",
   "metadata": {},
   "outputs": [],
   "source": [
    "print_something()   "
   ]
  },
  {
   "cell_type": "code",
   "execution_count": null,
   "id": "ab783543",
   "metadata": {},
   "outputs": [],
   "source": [
    "def print_something():\n",
    "    print('This is a function...')\n",
    "    print('...in Python')\n",
    "    return True\n",
    "status = print_something()\n"
   ]
  },
  {
   "cell_type": "code",
   "execution_count": null,
   "id": "e5bdd54f",
   "metadata": {},
   "outputs": [],
   "source": [
    "def print_name(first_name, last_name):\n",
    "    print(f'{first_name}, {last_name}')\n"
   ]
  },
  {
   "cell_type": "code",
   "execution_count": null,
   "id": "f5dee21f",
   "metadata": {},
   "outputs": [],
   "source": [
    "print_name('Wei-Meng', 'Lee')"
   ]
  },
  {
   "cell_type": "code",
   "execution_count": null,
   "id": "1a5f8dab",
   "metadata": {},
   "outputs": [],
   "source": [
    "print_name(first_name = 'Wei-Meng', last_name = 'Lee')    "
   ]
  },
  {
   "cell_type": "code",
   "execution_count": null,
   "id": "1ff5c9d9",
   "metadata": {},
   "outputs": [],
   "source": [
    "print_name(last_name = 'Lee', first_name = 'Wei-Meng')"
   ]
  },
  {
   "cell_type": "code",
   "execution_count": null,
   "id": "f56a99df",
   "metadata": {},
   "outputs": [],
   "source": [
    "print_name('Wei-Meng', last_name = 'Lee')"
   ]
  },
  {
   "cell_type": "code",
   "execution_count": null,
   "id": "8beb514d",
   "metadata": {},
   "outputs": [],
   "source": [
    "def print_name(first_name, last_name, join = ','):\n",
    "    print(f'{first_name}{join} {last_name}')\n"
   ]
  },
  {
   "cell_type": "code",
   "execution_count": null,
   "id": "fa1fc0f8",
   "metadata": {},
   "outputs": [],
   "source": [
    "print_name('Wei-Meng', 'Lee', '')  \n",
    "# Wei-Meng Lee\n"
   ]
  },
  {
   "cell_type": "code",
   "execution_count": null,
   "id": "9f0ede3b",
   "metadata": {},
   "outputs": [],
   "source": [
    "print_name('Wei-Meng', 'Lee')  \n",
    "# Wei-Meng, Lee\n"
   ]
  },
  {
   "cell_type": "code",
   "execution_count": null,
   "id": "71b36878",
   "metadata": {},
   "outputs": [],
   "source": [
    "def add(*nums):\n",
    "    for num in nums:\n",
    "        print(num, end = ',')\n",
    "    print()\n",
    "    return sum(nums)\n"
   ]
  },
  {
   "cell_type": "code",
   "execution_count": null,
   "id": "054157f0",
   "metadata": {},
   "outputs": [],
   "source": [
    "add(1,2)      # 3\n",
    "add(1,2,3)    # 6\n",
    "add(1,2,3,4)  # 10\n"
   ]
  },
  {
   "cell_type": "code",
   "execution_count": null,
   "id": "6dd4e644",
   "metadata": {},
   "outputs": [],
   "source": [
    "def some_function(**kwargs):\n",
    "    for key, value in kwargs.items():\n",
    "        print(key, value)\n"
   ]
  },
  {
   "cell_type": "code",
   "execution_count": null,
   "id": "f9f8de2c",
   "metadata": {},
   "outputs": [],
   "source": [
    "some_function(a = 3, b = 4, c = 5)"
   ]
  },
  {
   "cell_type": "code",
   "execution_count": null,
   "id": "ce60feff",
   "metadata": {},
   "outputs": [],
   "source": [
    "pairs = {\"a\":3, \"b\":4, \"c\":5}\n",
    "some_function(**pairs)\n"
   ]
  },
  {
   "cell_type": "code",
   "execution_count": null,
   "id": "c6cc501c",
   "metadata": {},
   "outputs": [],
   "source": [
    "numbers = [1,2,3,4,5]"
   ]
  },
  {
   "cell_type": "code",
   "execution_count": null,
   "id": "5bb3de44",
   "metadata": {},
   "outputs": [],
   "source": [
    "fruits = ['Apple','Orange','Pineapple']"
   ]
  },
  {
   "cell_type": "code",
   "execution_count": null,
   "id": "2bfdcaf7",
   "metadata": {},
   "outputs": [],
   "source": [
    "objects = [3,'Apple',True,3.14]"
   ]
  },
  {
   "cell_type": "code",
   "execution_count": null,
   "id": "33b69815",
   "metadata": {},
   "outputs": [],
   "source": [
    "list_of_lists = [numbers,fruits,objects]"
   ]
  },
  {
   "cell_type": "code",
   "execution_count": null,
   "id": "1c89670d",
   "metadata": {},
   "outputs": [],
   "source": [
    "len(numbers)        # 5\n",
    "len(fruits)         # 3\n",
    "len(list_of_lists)  # 3\n"
   ]
  },
  {
   "cell_type": "code",
   "execution_count": null,
   "id": "c18d43bc",
   "metadata": {},
   "outputs": [],
   "source": [
    "numbers[0]           # 1; first element\n",
    "numbers[1]           # 2; second element\n",
    "list_of_lists[1]     # ['Apple', 'Orange', 'Pineapple']; the second element\n",
    "list_of_lists[1][1]  # 'Orange'\n"
   ]
  },
  {
   "cell_type": "code",
   "execution_count": null,
   "id": "d7915329",
   "metadata": {},
   "outputs": [],
   "source": [
    "numbers[-1]   # 5; last element\n",
    "numbers[-2]   # 4; second last element\n"
   ]
  },
  {
   "cell_type": "code",
   "execution_count": null,
   "id": "92814a2a",
   "metadata": {},
   "outputs": [],
   "source": [
    "for fruit in fruits:\n",
    "    print(fruit)\n"
   ]
  },
  {
   "cell_type": "code",
   "execution_count": null,
   "id": "de362aee",
   "metadata": {},
   "outputs": [],
   "source": [
    "for i, fruit in enumerate(fruits):\n",
    "    print(i, fruit)\n"
   ]
  },
  {
   "cell_type": "code",
   "execution_count": null,
   "id": "83b18ec3",
   "metadata": {},
   "outputs": [],
   "source": [
    "fruits = ['Apple','Orange','Pineapple']\n",
    "fruits.append('Mango')\n",
    "print(fruits)     # ['Apple', 'Orange', 'Pineapple', 'Mango']\n"
   ]
  },
  {
   "cell_type": "code",
   "execution_count": null,
   "id": "d35bcefb",
   "metadata": {},
   "outputs": [],
   "source": [
    "fruits = ['Apple','Orange','Pineapple']\n",
    "fruits = fruits + ['Kiwi']\n",
    "# fruits is now ['Apple', 'Orange', 'Pineapple', 'Kiwi']\n"
   ]
  },
  {
   "cell_type": "code",
   "execution_count": null,
   "id": "18eadeb2",
   "metadata": {},
   "outputs": [],
   "source": [
    "fruits.remove('Orange') # removes the first occurrence of an item\n",
    "# fruits is now [‘Apple’, ‘Pineapple’, ‘Kiwi’]\n"
   ]
  },
  {
   "cell_type": "code",
   "execution_count": null,
   "id": "2ebf82d6",
   "metadata": {},
   "outputs": [],
   "source": [
    "fruits.pop()   # removes the last item in the list\n",
    "# returns ‘Kiwi’\n",
    "# fruits is now [‘Apple’, ‘Pineapple’]\n"
   ]
  },
  {
   "cell_type": "code",
   "execution_count": null,
   "id": "d4a7f978",
   "metadata": {},
   "outputs": [],
   "source": [
    "del fruits[1]   # remove element at index 1, which is Pineapple\n",
    "# fruits is now ['Apple']\n"
   ]
  },
  {
   "cell_type": "code",
   "execution_count": null,
   "id": "fea3e2b0",
   "metadata": {},
   "outputs": [],
   "source": [
    "months = ['jan','feb','mar','apr','may','jun','jul','aug','sep','oct','nov','dec']"
   ]
  },
  {
   "cell_type": "code",
   "execution_count": null,
   "id": "b2448dea",
   "metadata": {},
   "outputs": [],
   "source": [
    "months[0:4]"
   ]
  },
  {
   "cell_type": "code",
   "execution_count": null,
   "id": "c8951937",
   "metadata": {},
   "outputs": [],
   "source": [
    "months[:4]"
   ]
  },
  {
   "cell_type": "code",
   "execution_count": null,
   "id": "ee68dc4d",
   "metadata": {},
   "outputs": [],
   "source": [
    "months[4:]"
   ]
  },
  {
   "cell_type": "code",
   "execution_count": null,
   "id": "94e6edd0",
   "metadata": {},
   "outputs": [],
   "source": [
    "months[4::2]"
   ]
  },
  {
   "cell_type": "code",
   "execution_count": null,
   "id": "b79a8e98",
   "metadata": {},
   "outputs": [],
   "source": [
    "months[-1:]"
   ]
  },
  {
   "cell_type": "code",
   "execution_count": null,
   "id": "6aa7fa72",
   "metadata": {},
   "outputs": [],
   "source": [
    "months[-4:-2]"
   ]
  },
  {
   "cell_type": "code",
   "execution_count": null,
   "id": "5e64dbeb",
   "metadata": {},
   "outputs": [],
   "source": [
    "months[-2:-10:-2]"
   ]
  },
  {
   "cell_type": "code",
   "execution_count": null,
   "id": "5b8b24d9",
   "metadata": {},
   "outputs": [],
   "source": [
    "months[:-3:-1]"
   ]
  },
  {
   "cell_type": "code",
   "execution_count": null,
   "id": "4c54a4f9",
   "metadata": {},
   "outputs": [],
   "source": [
    "months[-4::-1]"
   ]
  },
  {
   "cell_type": "code",
   "execution_count": null,
   "id": "5e2a1446",
   "metadata": {},
   "outputs": [],
   "source": [
    "months[::-1]"
   ]
  },
  {
   "cell_type": "code",
   "execution_count": null,
   "id": "ed41eca1",
   "metadata": {},
   "outputs": [],
   "source": [
    "r = range(1000)"
   ]
  },
  {
   "cell_type": "code",
   "execution_count": null,
   "id": "6788a1ea",
   "metadata": {},
   "outputs": [],
   "source": [
    "nums = list(r)\n",
    "nums   # [0,1,2,3,4... 997,998,999]\n"
   ]
  },
  {
   "cell_type": "code",
   "execution_count": null,
   "id": "229d227a",
   "metadata": {},
   "outputs": [],
   "source": [
    "nums = list(range(2,5))      # [2, 3, 4]\n",
    "nums = list(range(2,6,2))    # [2, 4]\n",
    "nums = list(range(6,2,-1))   # [6, 5, 4, 3]\n",
    "nums = list(range(-2,-5,-1)) # [-2, -3, -4]\n"
   ]
  },
  {
   "cell_type": "code",
   "execution_count": null,
   "id": "47727087",
   "metadata": {},
   "outputs": [],
   "source": [
    "prices = range(1,11)"
   ]
  },
  {
   "cell_type": "code",
   "execution_count": null,
   "id": "d26d951b",
   "metadata": {},
   "outputs": [],
   "source": [
    "new_list = [i for i in prices if i > 5]\n",
    "# new_list is now [6, 7, 8, 9, 10]\n"
   ]
  },
  {
   "cell_type": "code",
   "execution_count": null,
   "id": "9fa9d83c",
   "metadata": {},
   "outputs": [],
   "source": [
    "[i*2 for i in prices if i > 5]\n",
    "# [12, 14, 16, 18, 20]\n"
   ]
  },
  {
   "cell_type": "code",
   "execution_count": null,
   "id": "2168d412",
   "metadata": {},
   "outputs": [],
   "source": [
    "[f'${i:.2f}' for i in prices]"
   ]
  },
  {
   "cell_type": "code",
   "execution_count": null,
   "id": "76efc880",
   "metadata": {},
   "outputs": [],
   "source": [
    "[f'${i*1.08:.2f}' if i>5 else f'${i:.2f}' for i in prices]"
   ]
  },
  {
   "cell_type": "code",
   "execution_count": null,
   "id": "3ead7747",
   "metadata": {},
   "outputs": [],
   "source": [
    "[f'${(i*1.08 if i>5 else i):.2f}' for i in prices]"
   ]
  },
  {
   "cell_type": "code",
   "execution_count": null,
   "id": "87eb458f",
   "metadata": {},
   "outputs": [],
   "source": [
    "cities = {'New York','Tokyo','London','Shanghai'}"
   ]
  },
  {
   "cell_type": "code",
   "execution_count": null,
   "id": "ca9cdb7a",
   "metadata": {},
   "outputs": [],
   "source": [
    "cities = set(['New York','Tokyo','London','Shanghai'])"
   ]
  },
  {
   "cell_type": "code",
   "execution_count": null,
   "id": "69a2b06d",
   "metadata": {},
   "outputs": [],
   "source": [
    "for city in cities:\n",
    "    print(city)\n"
   ]
  },
  {
   "cell_type": "code",
   "execution_count": null,
   "id": "233ad055",
   "metadata": {},
   "outputs": [],
   "source": [
    "'Tokyo' in cities    # True"
   ]
  },
  {
   "cell_type": "code",
   "execution_count": null,
   "id": "a2d4e3f1",
   "metadata": {},
   "outputs": [],
   "source": [
    "cities.add('Mumbai')"
   ]
  },
  {
   "cell_type": "code",
   "execution_count": null,
   "id": "1c3aba7f",
   "metadata": {},
   "outputs": [],
   "source": [
    "cities.remove('Mumbai')  # if item is not found, an exception is raised"
   ]
  },
  {
   "cell_type": "code",
   "execution_count": null,
   "id": "f7bb5066",
   "metadata": {},
   "outputs": [],
   "source": [
    "cities.discard('Mumbai')"
   ]
  },
  {
   "cell_type": "code",
   "execution_count": null,
   "id": "ea3f0815",
   "metadata": {},
   "outputs": [],
   "source": [
    "people = {\n",
    "    1: 'Alice Johnson',\n",
    "    2: 'Benjamin Martinez'\n",
    "}\n"
   ]
  },
  {
   "cell_type": "code",
   "execution_count": null,
   "id": "55ff318a",
   "metadata": {},
   "outputs": [],
   "source": [
    "people.keys()\n",
    "# dict_keys([1, 2])\n"
   ]
  },
  {
   "cell_type": "code",
   "execution_count": null,
   "id": "6715c342",
   "metadata": {},
   "outputs": [],
   "source": [
    "people.values()\n",
    "# dict_values(['Alice Johnson', 'Benjamin Martinez'])\n"
   ]
  },
  {
   "cell_type": "code",
   "execution_count": null,
   "id": "cd7d2c5f",
   "metadata": {},
   "outputs": [],
   "source": [
    "people[1]\n",
    "# 'Alice Johnson'\n"
   ]
  },
  {
   "cell_type": "code",
   "execution_count": null,
   "id": "dc3fd465",
   "metadata": {},
   "outputs": [],
   "source": [
    "if 3 in people:\n",
    "    print(people[3])\n",
    "else:\n",
    "    print('Key not found')\n"
   ]
  },
  {
   "cell_type": "code",
   "execution_count": null,
   "id": "b22dc4f8",
   "metadata": {},
   "outputs": [],
   "source": [
    "'Alice Johnson' in people.values()\n",
    "# True\n"
   ]
  },
  {
   "cell_type": "code",
   "execution_count": null,
   "id": "eea20b07",
   "metadata": {},
   "outputs": [],
   "source": [
    "people.get(3, 'Name not found')"
   ]
  },
  {
   "cell_type": "code",
   "execution_count": null,
   "id": "2dfb69de",
   "metadata": {},
   "outputs": [],
   "source": [
    "people[3] = 'Charlotte Davis'\n",
    "# {1: 'Alice Johnson', 2: 'Charlotte Davis', 3: 'Charlotte Davis'}\n"
   ]
  },
  {
   "cell_type": "code",
   "execution_count": null,
   "id": "3b090062",
   "metadata": {},
   "outputs": [],
   "source": [
    "for k,v in people.items():\n",
    "    print(f'{k} - {v}')\n"
   ]
  },
  {
   "cell_type": "code",
   "execution_count": null,
   "id": "9edc803b",
   "metadata": {},
   "outputs": [],
   "source": [
    "{people[i]:i for i in people.keys()}\n",
    "# {'Alice Johnson': 1, 'Benjamin Martinez': 2, 'Charlotte Davis': 3}\n"
   ]
  },
  {
   "cell_type": "code",
   "execution_count": null,
   "id": "51b038ca",
   "metadata": {},
   "outputs": [],
   "source": [
    "del people[1]\n",
    "# people is now {2: 'Benjamin Martinez', 3: 'Charlotte Davis'}\n"
   ]
  },
  {
   "cell_type": "code",
   "execution_count": null,
   "id": "6c7d4859",
   "metadata": {},
   "outputs": [],
   "source": [
    "people.pop(2)\n",
    "# 'Benjamin Martinez' will be returned and deleted from the dictionary\n",
    "# people is now {3: 'Charlotte Davis'}\n"
   ]
  },
  {
   "cell_type": "code",
   "execution_count": null,
   "id": "e2b89e66",
   "metadata": {},
   "outputs": [],
   "source": [
    "flight = ('SQ123','SIN','HEL',16)"
   ]
  },
  {
   "cell_type": "code",
   "execution_count": null,
   "id": "ee660275",
   "metadata": {},
   "outputs": [],
   "source": [
    "flight_no = flight[0]\n",
    "ORGIN = flight[1]\n",
    "DEST = flight[2]\n",
    "DURATION = flight[3]\n"
   ]
  },
  {
   "cell_type": "code",
   "execution_count": null,
   "id": "d306cc0e",
   "metadata": {},
   "outputs": [],
   "source": [
    "flight_no, ORGIN, DEST, DURATION = flight"
   ]
  },
  {
   "cell_type": "code",
   "execution_count": null,
   "id": "a3aea935",
   "metadata": {},
   "outputs": [],
   "source": [
    "def count_vowels(string):\n",
    "    # use a dictionary to keep the count\n",
    "    vowel_counts = {'a': 0, 'e': 0, 'i': 0, 'o': 0, 'u': 0}\n",
    "\n",
    "    # change all characters to lowercase\n",
    "    string = string.lower()\n",
    "\n",
    "    for char in string:\n",
    "        # if the character is a vowel\n",
    "        if char in vowel_counts:\n",
    "            # increment the count for the corresponding vowel\n",
    "            vowel_counts[char] += 1\n",
    "\n",
    "    # convert the dictionary into a tuple\n",
    "    vowel_tuple = tuple(vowel_counts.values())\n",
    "\n",
    "    return vowel_tuple\n",
    "\n",
    "input_string = \"The quick brown fox jumps over the lazy dog\"\n",
    "result = count_vowels(input_string)\n",
    "print(result) \n",
    "# (1, 3, 1, 4, 2)\n"
   ]
  },
  {
   "cell_type": "code",
   "execution_count": null,
   "id": "93cd1609",
   "metadata": {},
   "outputs": [],
   "source": [
    "x = 5\n",
    "y = 6\n",
    "x,y = y,x\n",
    "# x is now 6 and y is now 5\n"
   ]
  },
  {
   "cell_type": "code",
   "execution_count": null,
   "id": "9deef194",
   "metadata": {},
   "outputs": [],
   "source": [
    "def cube(n):\n",
    "    return n**3\n",
    "\n",
    "print(cube(5))\n",
    "# 125\n"
   ]
  },
  {
   "cell_type": "code",
   "execution_count": null,
   "id": "fb2846ab",
   "metadata": {},
   "outputs": [],
   "source": [
    "g = lambda n: n**3"
   ]
  },
  {
   "cell_type": "code",
   "execution_count": null,
   "id": "39a2f30f",
   "metadata": {},
   "outputs": [],
   "source": [
    "g = lambda n: n**3\n",
    "num = 5\n",
    "callable(g)    # True\n",
    "callable(num)  # False\n"
   ]
  },
  {
   "cell_type": "code",
   "execution_count": null,
   "id": "8b1a6d8b",
   "metadata": {},
   "outputs": [],
   "source": [
    "g(5)\n",
    "# 125\n"
   ]
  },
  {
   "cell_type": "code",
   "execution_count": null,
   "id": "6d0bb6e7",
   "metadata": {},
   "outputs": [],
   "source": [
    "# takes in a list and return all the even numbers\n",
    "def even_nums(l):\n",
    "    result = []\n",
    "    for n in l:\n",
    "        if n % 2 == 0:\n",
    "            result.append(n)\n",
    "    return result\n",
    "\n",
    "# takes in a list and return all the numbers greater than 5\n",
    "def num_gt_5(l):\n",
    "    result = []\n",
    "    for n in l:\n",
    "        if n > 5:\n",
    "            result.append(n)\n",
    "    return result\n"
   ]
  },
  {
   "cell_type": "code",
   "execution_count": null,
   "id": "a4dc6ecf",
   "metadata": {},
   "outputs": [],
   "source": [
    "condition = lambda x: x % 2 == 0"
   ]
  },
  {
   "cell_type": "code",
   "execution_count": null,
   "id": "5dc62459",
   "metadata": {},
   "outputs": [],
   "source": [
    "def my_filter(condition, lst):\n",
    "    result = []\n",
    "    for n in lst:\n",
    "        if (condition(n)):  # condition is a lambda function and callable\n",
    "            result.append(n)\n",
    "    return result\n",
    "\n",
    "lst = [1,2,3,4,5,6,7,8,9]\n",
    "print(my_filter(lambda x: x % 2 == 0, lst))\n",
    "# [2, 4, 6, 8]\n"
   ]
  },
  {
   "cell_type": "code",
   "execution_count": null,
   "id": "597f9fb1",
   "metadata": {},
   "outputs": [],
   "source": [
    "print(my_filter(lambda x: x > 5, lst))\n",
    "# [6, 7, 8, 9]\n"
   ]
  },
  {
   "cell_type": "code",
   "execution_count": null,
   "id": "b86af28d",
   "metadata": {},
   "outputs": [],
   "source": [
    "lst = [1,2,3,4,5,6,7,8,9]\n",
    "print(list(filter(lambda x: x % 2 == 0, lst)))       \n",
    "# [2, 4, 6, 8]\n",
    "\n",
    "print(list(filter(lambda x: x > 5, lst)))\n",
    "# [6, 7, 8, 9]\n"
   ]
  },
  {
   "cell_type": "code",
   "execution_count": null,
   "id": "5abb6445",
   "metadata": {},
   "outputs": [],
   "source": [
    "r = range(5)\n",
    "print(r)\n",
    "# range(0, 5)\n"
   ]
  },
  {
   "cell_type": "code",
   "execution_count": null,
   "id": "8cd0d5f3",
   "metadata": {},
   "outputs": [],
   "source": [
    "for i in r:\n",
    "    print(i)\n"
   ]
  },
  {
   "cell_type": "code",
   "execution_count": null,
   "id": "483938ec",
   "metadata": {},
   "outputs": [],
   "source": [
    "list(r)\n",
    "# [0, 1, 2, 3, 4]\n"
   ]
  },
  {
   "cell_type": "code",
   "execution_count": null,
   "id": "ad9a55fc",
   "metadata": {},
   "outputs": [],
   "source": [
    "r = range(5_000_000_000)"
   ]
  },
  {
   "cell_type": "code",
   "execution_count": null,
   "id": "0ee65842",
   "metadata": {},
   "outputs": [],
   "source": [
    "i = iter(r)"
   ]
  },
  {
   "cell_type": "code",
   "execution_count": null,
   "id": "d4761a4a",
   "metadata": {},
   "outputs": [],
   "source": [
    "next(i)\n",
    "# 0"
   ]
  },
  {
   "cell_type": "code",
   "execution_count": null,
   "id": "68cb90dd",
   "metadata": {},
   "outputs": [],
   "source": [
    "r = range(5_000_000_000)\n",
    "list(r)\n"
   ]
  },
  {
   "cell_type": "code",
   "execution_count": null,
   "id": "0d4db8b0",
   "metadata": {},
   "outputs": [],
   "source": [
    "nums = [3,4,1]\n",
    "i = iter(nums)\n"
   ]
  },
  {
   "cell_type": "code",
   "execution_count": null,
   "id": "5be93e9b",
   "metadata": {},
   "outputs": [],
   "source": [
    "nums = [3,4,1]\n",
    "i = iter(nums)\n",
    "while True:\n",
    "    try:\n",
    "        print(next(i))\n",
    "    except StopIteration:\n",
    "        break\n"
   ]
  },
  {
   "cell_type": "code",
   "execution_count": null,
   "id": "4e60b5fd",
   "metadata": {},
   "outputs": [],
   "source": [
    "def months(): \n",
    "    yield 'January'\n",
    "    yield 'February'\n",
    "    yield 'March'\n",
    "    yield 'April'\n",
    "    yield 'May'\n",
    "    yield 'June'\n",
    "    yield 'July'\n",
    "    yield 'August'\n",
    "    yield 'September'\n",
    "    yield 'October'\n",
    "    yield 'November'\n",
    "    yield 'December'\n"
   ]
  },
  {
   "cell_type": "code",
   "execution_count": null,
   "id": "8131420b",
   "metadata": {},
   "outputs": [],
   "source": [
    "i = months()    # calling months() will return an iterator object"
   ]
  },
  {
   "cell_type": "code",
   "execution_count": null,
   "id": "4f9474f8",
   "metadata": {},
   "outputs": [],
   "source": [
    "print(next(i))   # January\n",
    "print(next(i))   # February\n",
    "print(next(i))   # March\n"
   ]
  },
  {
   "cell_type": "code",
   "execution_count": null,
   "id": "bb1ff046",
   "metadata": {},
   "outputs": [],
   "source": [
    "for month in months():\n",
    "    print(month)\n"
   ]
  },
  {
   "cell_type": "code",
   "execution_count": null,
   "id": "bd43af05",
   "metadata": {},
   "outputs": [],
   "source": [
    "def my_filter(condition, lst):\n",
    "    for n in lst:\n",
    "        if (condition(n)):\n",
    "            yield n\n"
   ]
  },
  {
   "cell_type": "code",
   "execution_count": null,
   "id": "cc597f0a",
   "metadata": {},
   "outputs": [],
   "source": [
    "even_numbers = my_filter(lambda x: x % 2 == 0, range(500000000))"
   ]
  },
  {
   "cell_type": "code",
   "execution_count": null,
   "id": "2ef09ff4",
   "metadata": {},
   "outputs": [],
   "source": [
    "next(even_numbers)  # 0\n",
    "next(even_numbers)  # 2\n",
    "next(even_numbers)  # 4\n"
   ]
  },
  {
   "cell_type": "code",
   "execution_count": null,
   "id": "46c02b22",
   "metadata": {},
   "outputs": [],
   "source": []
  }
 ],
 "metadata": {
  "kernelspec": {
   "display_name": "Python 3 (ipykernel)",
   "language": "python",
   "name": "python3"
  },
  "language_info": {
   "codemirror_mode": {
    "name": "ipython",
    "version": 3
   },
   "file_extension": ".py",
   "mimetype": "text/x-python",
   "name": "python",
   "nbconvert_exporter": "python",
   "pygments_lexer": "ipython3",
   "version": "3.11.4"
  }
 },
 "nbformat": 4,
 "nbformat_minor": 5
}
