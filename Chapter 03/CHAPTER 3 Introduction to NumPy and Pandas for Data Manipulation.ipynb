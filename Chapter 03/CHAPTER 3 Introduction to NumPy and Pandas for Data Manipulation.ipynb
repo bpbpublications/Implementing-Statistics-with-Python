{
 "cells": [
  {
   "cell_type": "code",
   "execution_count": null,
   "id": "340c1c8b",
   "metadata": {},
   "outputs": [],
   "source": [
    "items = [1, 2.0, True, \"Hello\", [1,2]]"
   ]
  },
  {
   "cell_type": "code",
   "execution_count": null,
   "id": "545e6cb2",
   "metadata": {},
   "outputs": [],
   "source": [
    "import numpy as np"
   ]
  },
  {
   "cell_type": "code",
   "execution_count": null,
   "id": "bc6c1380",
   "metadata": {},
   "outputs": [],
   "source": [
    "fruits = ['apple','orange','pineapple']\n",
    "fruits_array = np.array(fruits)\n",
    "print(fruits_array)\n"
   ]
  },
  {
   "cell_type": "code",
   "execution_count": null,
   "id": "177ab1e4",
   "metadata": {},
   "outputs": [],
   "source": [
    "items = [1,\"Hello\",True]\n",
    "print(np.array(items))\n"
   ]
  },
  {
   "cell_type": "code",
   "execution_count": null,
   "id": "ab25c9a4",
   "metadata": {},
   "outputs": [],
   "source": [
    "['1' 'Hello' 'True']"
   ]
  },
  {
   "cell_type": "code",
   "execution_count": null,
   "id": "b633d5b8",
   "metadata": {},
   "outputs": [],
   "source": [
    "items = [1, 0, True, False]\n",
    "print(np.array(items))\n",
    "# [1 0 1 0]\n",
    "\n",
    "items = [1, 3.0 ,True]\n",
    "print(np.array(items))\n",
    "# [1. 3. 1.]\n"
   ]
  },
  {
   "cell_type": "code",
   "execution_count": null,
   "id": "eff47c01",
   "metadata": {},
   "outputs": [],
   "source": [
    "print(fruits_array.shape)"
   ]
  },
  {
   "cell_type": "code",
   "execution_count": null,
   "id": "90953358",
   "metadata": {},
   "outputs": [],
   "source": [
    "print(fruits_array.size)     # 3"
   ]
  },
  {
   "cell_type": "code",
   "execution_count": null,
   "id": "c08af425",
   "metadata": {},
   "outputs": [],
   "source": [
    "print(fruits_array[0])"
   ]
  },
  {
   "cell_type": "code",
   "execution_count": null,
   "id": "8cf3d102",
   "metadata": {},
   "outputs": [],
   "source": [
    "print(fruits_array[-1])     # pineapple"
   ]
  },
  {
   "cell_type": "code",
   "execution_count": null,
   "id": "2a31a04a",
   "metadata": {},
   "outputs": [],
   "source": [
    "print(fruits_array[[2,0,1]])\n",
    "# ['pineapple' 'apple' 'orange']\n"
   ]
  },
  {
   "cell_type": "code",
   "execution_count": null,
   "id": "6226f33a",
   "metadata": {},
   "outputs": [],
   "source": [
    "fruits[:2]      # first 2 elements\n",
    "# ['apple', 'orange']\n",
    "\n",
    "fruits[1:]      # second element onwards\n",
    "# ['orange', 'pineapple']\n",
    "\n",
    "fruits[::-1]    # get all elements in reverse\n",
    "# ['pineapple', 'orange', 'apple']\n"
   ]
  },
  {
   "cell_type": "code",
   "execution_count": null,
   "id": "8fe21111",
   "metadata": {},
   "outputs": [],
   "source": [
    "array1 = np.array([[1,2,3,4,5], \n",
    "                   [4,5,6,7,8], \n",
    "                   [9,8,7,6,5]])\n",
    "print(array1)\n"
   ]
  },
  {
   "cell_type": "code",
   "execution_count": null,
   "id": "6a64e542",
   "metadata": {},
   "outputs": [],
   "source": [
    "print(array1.shape)\n",
    "# (3, 5) – the output is in the format of (row, column)\n"
   ]
  },
  {
   "cell_type": "code",
   "execution_count": null,
   "id": "4e3550a7",
   "metadata": {},
   "outputs": [],
   "source": [
    "print(array1.size)\n",
    "# 15\n"
   ]
  },
  {
   "cell_type": "code",
   "execution_count": null,
   "id": "55349b5b",
   "metadata": {},
   "outputs": [],
   "source": [
    "print(array1[2,4])   # third row, fifth column\n",
    "# 5\n"
   ]
  },
  {
   "cell_type": "code",
   "execution_count": null,
   "id": "db214e84",
   "metadata": {},
   "outputs": [],
   "source": [
    "a = array1[:2,2:4]   # first 2 rows, third to fourth columns\n",
    "print(a)\n"
   ]
  },
  {
   "cell_type": "code",
   "execution_count": null,
   "id": "085a8df8",
   "metadata": {},
   "outputs": [],
   "source": [
    "a[0,0] = 33    # remember a is a reference to the original array\n",
    "print(array1)\n"
   ]
  },
  {
   "cell_type": "code",
   "execution_count": null,
   "id": "4743d071",
   "metadata": {},
   "outputs": [],
   "source": [
    "nums = np.array([[1,2,3],\n",
    "                 [4,5,6],\n",
    "                 [7,8,9]])\n"
   ]
  },
  {
   "cell_type": "code",
   "execution_count": null,
   "id": "8b0ea9a8",
   "metadata": {},
   "outputs": [],
   "source": [
    "nums % 2 == 0"
   ]
  },
  {
   "cell_type": "code",
   "execution_count": null,
   "id": "62d4b1fb",
   "metadata": {},
   "outputs": [],
   "source": [
    "print(nums[nums % 2 == 0])\n",
    "# [2 4 6 8]\n"
   ]
  },
  {
   "cell_type": "code",
   "execution_count": null,
   "id": "cf54163a",
   "metadata": {},
   "outputs": [],
   "source": [
    "print(nums[nums>5])\n",
    "# [6 7 8 9]  - all numbers greater than 5\n",
    "\n",
    "print(nums[nums%2==1])\n",
    "# [1 3 5 7 9] - all odd numbers\n",
    "\n",
    "print(nums[nums%3==0])\n",
    "# [3 6 9] - all numbers divisible by 3\n",
    "\n",
    "print(nums[(nums>3) & (nums<6)])\n",
    "# [4 5] - all numbers greater than 3 AND smaller than 6\n",
    "\n",
    "print(nums[(nums<3) | (nums>6)])\n",
    "# [1 2 7 8 9] all numbers smaller than 3 OR greater than 6\n",
    "\n",
    "print(nums[~(nums==5)])\n",
    "# [1 2 3 4 6 7 8 9] all numbers except 5\n"
   ]
  },
  {
   "cell_type": "code",
   "execution_count": null,
   "id": "a656551c",
   "metadata": {},
   "outputs": [],
   "source": [
    "nums = np.array([1,2,3,4,5,6,7,8])"
   ]
  },
  {
   "cell_type": "code",
   "execution_count": null,
   "id": "f88d4702",
   "metadata": {},
   "outputs": [],
   "source": [
    "print(nums.reshape((2,4)))"
   ]
  },
  {
   "cell_type": "code",
   "execution_count": null,
   "id": "a276365f",
   "metadata": {},
   "outputs": [],
   "source": [
    "print(nums.reshape((2,2,2)))"
   ]
  },
  {
   "cell_type": "code",
   "execution_count": null,
   "id": "fab90147",
   "metadata": {},
   "outputs": [],
   "source": [
    "print(nums.reshape(4,-1))"
   ]
  },
  {
   "cell_type": "code",
   "execution_count": null,
   "id": "e376ed83",
   "metadata": {},
   "outputs": [],
   "source": [
    "nums.reshape(-1,4)"
   ]
  },
  {
   "cell_type": "code",
   "execution_count": null,
   "id": "77ba8e31",
   "metadata": {},
   "outputs": [],
   "source": [
    "items         = np.array(['Milk','Eggs','Pasta','Potatoes','Cheese'])\n",
    "unit_prices   = np.array([3.49, 1.99, 1.19, 0.69, 2.79])\n",
    "cost_per_unit = np.array([2.59, 1.00, 0.70, 0.25, 2.01])\n",
    "qty_sold      = np.array([100,500,50,340,60])\n"
   ]
  },
  {
   "cell_type": "code",
   "execution_count": null,
   "id": "19c6b719",
   "metadata": {},
   "outputs": [],
   "source": [
    "total_sales = unit_prices * qty_sold\n",
    "# array([349. , 995. ,  59.5, 234.6, 167.4])\n",
    "\n",
    "total_cost = cost_per_unit * qty_sold\n",
    "# array([259. , 500. ,  35. ,  85. , 120.6])\n",
    "\n",
    "total_profit = total_sales - total_cost\n",
    "# array([ 90. , 495. ,  24.5, 149.6,  46.8])\n"
   ]
  },
  {
   "cell_type": "code",
   "execution_count": null,
   "id": "c86fa972",
   "metadata": {},
   "outputs": [],
   "source": [
    "print(f'Total Sales: ${np.sum(total_sales):.2f}')\n",
    "print(f'Total Cost ${np.sum(total_cost):.2f}')\n",
    "print(f'Total Profit ${np.sum(total_profit):.2f}')\n"
   ]
  },
  {
   "cell_type": "code",
   "execution_count": null,
   "id": "4edb4ae0",
   "metadata": {},
   "outputs": [],
   "source": [
    "profit_per_unit = unit_prices - cost_per_unit\n",
    "# array([0.9 , 0.99, 0.49, 0.44, 0.78])\n"
   ]
  },
  {
   "cell_type": "code",
   "execution_count": null,
   "id": "d3c3aac6",
   "metadata": {},
   "outputs": [],
   "source": [
    "np.argsort(profit_per_unit)\n",
    "# array([3, 2, 4, 0, 1])\n"
   ]
  },
  {
   "cell_type": "code",
   "execution_count": null,
   "id": "0e680def",
   "metadata": {},
   "outputs": [],
   "source": [
    "items[np.argsort(profit_per_unit)]\n",
    "# array(['Potatoes', 'Pasta', 'Cheese', 'Milk', 'Eggs'], dtype='<U8')\n"
   ]
  },
  {
   "cell_type": "code",
   "execution_count": null,
   "id": "fa7e15ac",
   "metadata": {},
   "outputs": [],
   "source": [
    "items[np.argsort(profit_per_unit)[::-1]]\n",
    "# array(['Eggs', 'Milk', 'Cheese', 'Pasta', 'Potatoes'], dtype='<U8')\n"
   ]
  },
  {
   "cell_type": "code",
   "execution_count": null,
   "id": "dabb7cce",
   "metadata": {},
   "outputs": [],
   "source": [
    "persons = np.array(['Emma','Liam','Olivia','Noah','Ava'])\n",
    "ages    = np.array([    32,    10,      39,     6,  10])\n",
    "heights = np.array([   182,   145,     172,   112, 143])\n"
   ]
  },
  {
   "cell_type": "code",
   "execution_count": null,
   "id": "5d686dc3",
   "metadata": {},
   "outputs": [],
   "source": [
    "np.lexsort((ages,heights))\n",
    "# array([3, 4, 1, 2, 0])\n"
   ]
  },
  {
   "cell_type": "code",
   "execution_count": null,
   "id": "aff3a804",
   "metadata": {},
   "outputs": [],
   "source": [
    "persons[np.lexsort((ages,heights))]\n",
    "# array(['Noah', 'Ava', 'Liam', 'Olivia', 'Emma'], dtype='<U6')\n"
   ]
  },
  {
   "cell_type": "code",
   "execution_count": null,
   "id": "908fb4b3",
   "metadata": {},
   "outputs": [],
   "source": [
    "arr1 = np.array([45,23,78,21,79,86])"
   ]
  },
  {
   "cell_type": "code",
   "execution_count": null,
   "id": "fb640bda",
   "metadata": {},
   "outputs": [],
   "source": [
    "np.where(arr1 % 2 == 0)"
   ]
  },
  {
   "cell_type": "code",
   "execution_count": null,
   "id": "ab94acf1",
   "metadata": {},
   "outputs": [],
   "source": [
    "print(arr1[np.where(arr1 % 2 == 0)])\n",
    "# [78 86]\n"
   ]
  },
  {
   "cell_type": "code",
   "execution_count": null,
   "id": "387a592a",
   "metadata": {},
   "outputs": [],
   "source": [
    "np.where(arr1 % 2 == 0, 'Even', 'Odd')\n",
    "# array(['Odd', 'Odd', 'Even', 'Odd', 'Odd', 'Even'], dtype='<U4')\n"
   ]
  },
  {
   "cell_type": "code",
   "execution_count": null,
   "id": "5be430ad",
   "metadata": {},
   "outputs": [],
   "source": [
    "import pandas as pd"
   ]
  },
  {
   "cell_type": "code",
   "execution_count": null,
   "id": "601a947f",
   "metadata": {},
   "outputs": [],
   "source": [
    "fruits = pd.Series(['Apple','Orange','Pineapple','Durian','Mango'])\n",
    "print(fruits)\n"
   ]
  },
  {
   "cell_type": "code",
   "execution_count": null,
   "id": "fa5980e9",
   "metadata": {},
   "outputs": [],
   "source": [
    "fruits.index\n",
    "# RangeIndex(start=0, stop=5, step=1)\n"
   ]
  },
  {
   "cell_type": "code",
   "execution_count": null,
   "id": "89adf747",
   "metadata": {},
   "outputs": [],
   "source": [
    "fruits[0]         # find element by index value 0\n",
    "# 'Apple'\n"
   ]
  },
  {
   "cell_type": "code",
   "execution_count": null,
   "id": "f505600a",
   "metadata": {},
   "outputs": [],
   "source": [
    "fruits.loc[0]"
   ]
  },
  {
   "cell_type": "code",
   "execution_count": null,
   "id": "c23a08f0",
   "metadata": {},
   "outputs": [],
   "source": [
    "fruits.loc[0:3]"
   ]
  },
  {
   "cell_type": "code",
   "execution_count": null,
   "id": "b76e8d0a",
   "metadata": {},
   "outputs": [],
   "source": [
    "fruits.index = ['a','o','p','d','m']\n",
    "print(fruits)\n"
   ]
  },
  {
   "cell_type": "code",
   "execution_count": null,
   "id": "646260de",
   "metadata": {},
   "outputs": [],
   "source": [
    "fruits['a']\n",
    "# OR\n",
    "fruits.loc['a']\n",
    "# 'Apple'\n"
   ]
  },
  {
   "cell_type": "code",
   "execution_count": null,
   "id": "ac8c5194",
   "metadata": {},
   "outputs": [],
   "source": [
    "fruits['o':'p']"
   ]
  },
  {
   "cell_type": "code",
   "execution_count": null,
   "id": "38e7dc15",
   "metadata": {},
   "outputs": [],
   "source": [
    "fruits.isin(['Pineapple'])"
   ]
  },
  {
   "cell_type": "code",
   "execution_count": null,
   "id": "80bb58cf",
   "metadata": {},
   "outputs": [],
   "source": [
    "fruits[fruits.isin(['Pineapple'])]"
   ]
  },
  {
   "cell_type": "code",
   "execution_count": null,
   "id": "bb7daf34",
   "metadata": {},
   "outputs": [],
   "source": [
    "fruits[fruits.isin(['Pineapple','Orange'])]"
   ]
  },
  {
   "cell_type": "code",
   "execution_count": null,
   "id": "7ca36c87",
   "metadata": {},
   "outputs": [],
   "source": [
    "fruits[fruits.str.contains('apple', case = False)]"
   ]
  },
  {
   "cell_type": "code",
   "execution_count": null,
   "id": "cf39091d",
   "metadata": {},
   "outputs": [],
   "source": [
    "fruits.iloc[1]    # second row\n",
    "# 'Orange'\n",
    "fruits.iloc[-2]\n",
    "# 'Durian'        # second last row\n"
   ]
  },
  {
   "cell_type": "code",
   "execution_count": null,
   "id": "ad1db638",
   "metadata": {},
   "outputs": [],
   "source": [
    "fruits.iloc[:3]"
   ]
  },
  {
   "cell_type": "code",
   "execution_count": null,
   "id": "362af9e4",
   "metadata": {},
   "outputs": [],
   "source": [
    "dates1 = pd.date_range('2023.12.05', periods=12, freq='D')\n",
    "list(dates1)\n"
   ]
  },
  {
   "cell_type": "code",
   "execution_count": null,
   "id": "d83b8895",
   "metadata": {},
   "outputs": [],
   "source": [
    "dates2 = pd.date_range('2023-12-01', periods=12, freq='MS')\n",
    "list(dates2)\n"
   ]
  },
  {
   "cell_type": "code",
   "execution_count": null,
   "id": "32a16b85",
   "metadata": {},
   "outputs": [],
   "source": [
    "dates3 = pd.date_range('2023/12/15 09:00:00', periods=8, freq='H')\n",
    "list(dates3)\n"
   ]
  },
  {
   "cell_type": "code",
   "execution_count": null,
   "id": "ecb0a663",
   "metadata": {},
   "outputs": [],
   "source": [
    "temperature = pd.Series([30.0,31.4,32.8,31.5,29,28.5,30,33])"
   ]
  },
  {
   "cell_type": "code",
   "execution_count": null,
   "id": "801cd840",
   "metadata": {},
   "outputs": [],
   "source": [
    "temperature.index = pd.date_range('2023/12/15 09:00:00', periods=8, freq='H')"
   ]
  },
  {
   "cell_type": "code",
   "execution_count": null,
   "id": "c856d031",
   "metadata": {},
   "outputs": [],
   "source": [
    "df = pd.DataFrame(\n",
    "    {\n",
    "        'Name': ['Alice', 'Bob', 'Charlie', 'David'],\n",
    "        'Age': [25, 30, 22, 28],\n",
    "        'City': ['New York', 'Los Angeles', 'Chicago', 'Houston']\n",
    "    }\n",
    ")\n",
    "df\n"
   ]
  },
  {
   "cell_type": "code",
   "execution_count": null,
   "id": "2e694374",
   "metadata": {},
   "outputs": [],
   "source": [
    "df = pd.read_csv('airports.csv')\n",
    "df\n"
   ]
  },
  {
   "cell_type": "code",
   "execution_count": null,
   "id": "749456a4",
   "metadata": {},
   "outputs": [],
   "source": [
    "df.shape"
   ]
  },
  {
   "cell_type": "code",
   "execution_count": null,
   "id": "f410dd1c",
   "metadata": {},
   "outputs": [],
   "source": [
    "df.dtypes"
   ]
  },
  {
   "cell_type": "code",
   "execution_count": null,
   "id": "3e9b9d63",
   "metadata": {},
   "outputs": [],
   "source": [
    "df.columns"
   ]
  },
  {
   "cell_type": "code",
   "execution_count": null,
   "id": "8e49d54d",
   "metadata": {},
   "outputs": [],
   "source": [
    "print(df.values)"
   ]
  },
  {
   "cell_type": "code",
   "execution_count": null,
   "id": "5cbce0bd",
   "metadata": {},
   "outputs": [],
   "source": [
    "df.head()      # returns the first five rows"
   ]
  },
  {
   "cell_type": "code",
   "execution_count": null,
   "id": "4a5d841b",
   "metadata": {},
   "outputs": [],
   "source": [
    "df.head(10)    # returns the first ten rows"
   ]
  },
  {
   "cell_type": "code",
   "execution_count": null,
   "id": "cbc016fe",
   "metadata": {},
   "outputs": [],
   "source": [
    "df.tail()      # returns the last five rows\n",
    "df.tail(8)     # returns the last right rows\n"
   ]
  },
  {
   "cell_type": "code",
   "execution_count": null,
   "id": "53296052",
   "metadata": {},
   "outputs": [],
   "source": [
    "df.sample()    # randomly returns one row\n",
    "df.sample(5)   # randomly returns five rows\n"
   ]
  },
  {
   "cell_type": "code",
   "execution_count": null,
   "id": "f1e3c56c",
   "metadata": {},
   "outputs": [],
   "source": [
    "df['IATA_CODE']"
   ]
  },
  {
   "cell_type": "code",
   "execution_count": null,
   "id": "cc49c81b",
   "metadata": {},
   "outputs": [],
   "source": [
    "df[['IATA_CODE']]"
   ]
  },
  {
   "cell_type": "code",
   "execution_count": null,
   "id": "021926d2",
   "metadata": {},
   "outputs": [],
   "source": [
    "df[['IATA_CODE','AIRPORT']]"
   ]
  },
  {
   "cell_type": "code",
   "execution_count": null,
   "id": "7c796a5d",
   "metadata": {},
   "outputs": [],
   "source": [
    "df.iloc[0]"
   ]
  },
  {
   "cell_type": "code",
   "execution_count": null,
   "id": "d9b9794c",
   "metadata": {},
   "outputs": [],
   "source": [
    "df.iloc[[0]]"
   ]
  },
  {
   "cell_type": "code",
   "execution_count": null,
   "id": "b7ca2dde",
   "metadata": {},
   "outputs": [],
   "source": [
    "df.iloc[0:2]    # row number 0 to 2 (not including 2)"
   ]
  },
  {
   "cell_type": "code",
   "execution_count": null,
   "id": "2e048cb7",
   "metadata": {},
   "outputs": [],
   "source": [
    "df.loc[0:2]     # row with index value 0 to 2 (2 inclusive)"
   ]
  },
  {
   "cell_type": "code",
   "execution_count": null,
   "id": "28b139eb",
   "metadata": {},
   "outputs": [],
   "source": [
    "df[df['STATE'] == 'PA']"
   ]
  },
  {
   "cell_type": "code",
   "execution_count": null,
   "id": "9ba314dd",
   "metadata": {},
   "outputs": [],
   "source": [
    "df[df['AIRPORT'].str.contains('International')]"
   ]
  },
  {
   "cell_type": "code",
   "execution_count": null,
   "id": "796ad2ec",
   "metadata": {},
   "outputs": [],
   "source": [
    "df[(df['AIRPORT'].str.contains('International')) |\n",
    "   (df['AIRPORT'].str.contains('Regional'))]\n"
   ]
  },
  {
   "cell_type": "code",
   "execution_count": null,
   "id": "b952a7a8",
   "metadata": {},
   "outputs": [],
   "source": [
    "df.query('STATE == \"PA\"')\n",
    "df.query('AIRPORT.str.contains(\"International\")')\n",
    "df.query('AIRPORT.str.contains(\"International\") or  AIRPORT.str.contains(\"Regional\")')\n"
   ]
  },
  {
   "cell_type": "code",
   "execution_count": null,
   "id": "2260d87d",
   "metadata": {},
   "outputs": [],
   "source": [
    "df.iloc[2,3]\n",
    "df.iloc[1:3,2:4]\n",
    "df.iloc[[1,2],[2,3]]\n",
    "df.loc[0,'AIRPORT']\n",
    "df.loc[1:3,'AIRPORT':'CITY']\n",
    "df.loc[[1,3],['AIRPORT','CITY']]\n"
   ]
  },
  {
   "cell_type": "code",
   "execution_count": null,
   "id": "585607fc",
   "metadata": {},
   "outputs": [],
   "source": [
    "df = pd.DataFrame(\n",
    "    {\n",
    "        'x': [1,2,3,4,5],\n",
    "        'y': [6,7,8,9,10]\n",
    "    })\n",
    "df\n"
   ]
  },
  {
   "cell_type": "code",
   "execution_count": null,
   "id": "9c16f132",
   "metadata": {},
   "outputs": [],
   "source": [
    "def double(x):\n",
    "    return x * 2\n"
   ]
  },
  {
   "cell_type": "code",
   "execution_count": null,
   "id": "2462f6eb",
   "metadata": {},
   "outputs": [],
   "source": [
    "df.apply(double)"
   ]
  },
  {
   "cell_type": "code",
   "execution_count": null,
   "id": "64931c19",
   "metadata": {},
   "outputs": [],
   "source": [
    "def double(x):\n",
    "    print(f'Value of x is:')\n",
    "    print(x)\n",
    "    return x * 2 \n"
   ]
  },
  {
   "cell_type": "code",
   "execution_count": null,
   "id": "efe1f1fe",
   "metadata": {},
   "outputs": [],
   "source": [
    "df.apply(double, axis=1)"
   ]
  },
  {
   "cell_type": "code",
   "execution_count": null,
   "id": "b3380921",
   "metadata": {},
   "outputs": [],
   "source": [
    "df = pd.DataFrame(\n",
    "    {\n",
    "        'Items': ['Milk','Eggs','Pasta','Potatoes','Cheese'],\n",
    "        'Price': [3.49, 1.99, 1.19, 0.69, 2.79]\n",
    "    })\n"
   ]
  },
  {
   "cell_type": "code",
   "execution_count": null,
   "id": "565ca22d",
   "metadata": {},
   "outputs": [],
   "source": [
    "def apply_tax(x):\n",
    "    return round(x * 1.08, 2)\n",
    "\n",
    "df['Price_with_tax'] = df['Price'].apply(apply_tax)\n",
    "df\n"
   ]
  },
  {
   "cell_type": "code",
   "execution_count": null,
   "id": "e241060d",
   "metadata": {},
   "outputs": [],
   "source": []
  }
 ],
 "metadata": {
  "kernelspec": {
   "display_name": "Python 3 (ipykernel)",
   "language": "python",
   "name": "python3"
  },
  "language_info": {
   "codemirror_mode": {
    "name": "ipython",
    "version": 3
   },
   "file_extension": ".py",
   "mimetype": "text/x-python",
   "name": "python",
   "nbconvert_exporter": "python",
   "pygments_lexer": "ipython3",
   "version": "3.11.4"
  }
 },
 "nbformat": 4,
 "nbformat_minor": 5
}
